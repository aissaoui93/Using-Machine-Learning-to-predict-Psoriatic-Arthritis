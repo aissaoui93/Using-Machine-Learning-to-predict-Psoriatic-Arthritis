{
 "cells": [
  {
   "cell_type": "code",
   "execution_count": 310,
   "metadata": {},
   "outputs": [],
   "source": [
    "import pandas as pd\n",
    "import numpy as np\n",
    "import matplotlib.pyplot as plt\n",
    "\n",
    "%matplotlib inline"
   ]
  },
  {
   "cell_type": "markdown",
   "metadata": {},
   "source": [
    "# I. Data Importation"
   ]
  },
  {
   "cell_type": "code",
   "execution_count": 311,
   "metadata": {
    "scrolled": false
   },
   "outputs": [
    {
     "name": "stderr",
     "output_type": "stream",
     "text": [
      "/opt/anaconda/anaconda3/lib/python3.6/site-packages/IPython/core/interactiveshell.py:2698: DtypeWarning: Columns (1,5,6) have mixed types. Specify dtype option on import or set low_memory=False.\n",
      "  interactivity=interactivity, compiler=compiler, result=result)\n"
     ]
    },
    {
     "data": {
      "text/plain": [
       "(86449, 2)"
      ]
     },
     "execution_count": 311,
     "metadata": {},
     "output_type": "execute_result"
    }
   ],
   "source": [
    "# data importation\n",
    "df1    = pd.read_csv('/mnt/numberFive/capstone17/phenotypeData/C10004_PHENO1.csv')\n",
    "df2    = pd.read_csv('/mnt/numberFive/capstone17/phenotypeData/C10004_PHENO2.csv')\n",
    "df3    = pd.read_csv('/mnt/numberFive/capstone17/phenotypeData/C10004_PHENO3.csv')\n",
    "df4    = pd.read_csv('/mnt/numberFive/capstone17/phenotypeData/C10004_PHENO4.csv')\n",
    "df5    = pd.read_csv('/mnt/numberFive/capstone17/phenotypeData/C10004_PHENO5.csv')\n",
    "df6    = pd.read_csv('/mnt/numberFive/capstone17/phenotypeData/C10004_PHENO6.csv')\n",
    "df6_V2 = pd.read_csv('/mnt/numberFive/capstone17/phenotypeData/C10004_PHENO6_V2.csv')\n",
    "df7    = pd.read_csv('/mnt/numberFive/capstone17/phenotypeData/C10004_PHENO7.csv')\n",
    "df2.shape"
   ]
  },
  {
   "cell_type": "markdown",
   "metadata": {},
   "source": [
    "# II. Understanding, analysing and visualizing each dataframe  \n",
    "\n",
    "\n",
    "\n"
   ]
  },
  {
   "cell_type": "markdown",
   "metadata": {},
   "source": [
    "## II.1. Phenotype 1 : BMI (Body Mass Index)"
   ]
  },
  {
   "cell_type": "code",
   "execution_count": 440,
   "metadata": {},
   "outputs": [
    {
     "data": {
      "text/html": [
       "<div>\n",
       "<style>\n",
       "    .dataframe thead tr:only-child th {\n",
       "        text-align: right;\n",
       "    }\n",
       "\n",
       "    .dataframe thead th {\n",
       "        text-align: left;\n",
       "    }\n",
       "\n",
       "    .dataframe tbody tr th {\n",
       "        vertical-align: top;\n",
       "    }\n",
       "</style>\n",
       "<table border=\"1\" class=\"dataframe\">\n",
       "  <thead>\n",
       "    <tr style=\"text-align: right;\">\n",
       "      <th></th>\n",
       "      <th>SUBJID</th>\n",
       "      <th>BMI</th>\n",
       "      <th>BMI_DATE</th>\n",
       "    </tr>\n",
       "  </thead>\n",
       "  <tbody>\n",
       "    <tr>\n",
       "      <th>0</th>\n",
       "      <td>997557158800</td>\n",
       "      <td>23</td>\n",
       "      <td>05AUG1953:00:00:00</td>\n",
       "    </tr>\n",
       "    <tr>\n",
       "      <th>1</th>\n",
       "      <td>15152000715</td>\n",
       "      <td>19</td>\n",
       "      <td>17DEC1981:00:00:00</td>\n",
       "    </tr>\n",
       "    <tr>\n",
       "      <th>2</th>\n",
       "      <td>133014986026</td>\n",
       "      <td>42</td>\n",
       "      <td>26JAN1970:00:00:00</td>\n",
       "    </tr>\n",
       "    <tr>\n",
       "      <th>3</th>\n",
       "      <td>166030749962</td>\n",
       "      <td>23</td>\n",
       "      <td>28DEC1941:00:00:00</td>\n",
       "    </tr>\n",
       "    <tr>\n",
       "      <th>4</th>\n",
       "      <td>58652167287</td>\n",
       "      <td>24</td>\n",
       "      <td>19MAR1939:00:00:00</td>\n",
       "    </tr>\n",
       "  </tbody>\n",
       "</table>\n",
       "</div>"
      ],
      "text/plain": [
       "         SUBJID BMI            BMI_DATE\n",
       "0  997557158800  23  05AUG1953:00:00:00\n",
       "1   15152000715  19  17DEC1981:00:00:00\n",
       "2  133014986026  42  26JAN1970:00:00:00\n",
       "3  166030749962  23  28DEC1941:00:00:00\n",
       "4   58652167287  24  19MAR1939:00:00:00"
      ]
     },
     "execution_count": 440,
     "metadata": {},
     "output_type": "execute_result"
    }
   ],
   "source": [
    "# data importation\n",
    "df1    = pd.read_csv('/mnt/numberFive/capstone17/phenotypeData/C10004_PHENO1.csv')\n",
    "df1.head()"
   ]
  },
  {
   "cell_type": "code",
   "execution_count": 441,
   "metadata": {},
   "outputs": [
    {
     "data": {
      "text/plain": [
       "(86064, 3)"
      ]
     },
     "execution_count": 441,
     "metadata": {},
     "output_type": "execute_result"
    }
   ],
   "source": [
    "df1.shape"
   ]
  },
  {
   "cell_type": "markdown",
   "metadata": {},
   "source": [
    "- BMI : BMI Measurement ( BMI = Body Mass Index)\n",
    "- BMI_DATE : date of BMI measurement"
   ]
  },
  {
   "cell_type": "code",
   "execution_count": 442,
   "metadata": {},
   "outputs": [
    {
     "data": {
      "text/plain": [
       "SUBJID      False\n",
       "BMI         False\n",
       "BMI_DATE    False\n",
       "dtype: bool"
      ]
     },
     "execution_count": 442,
     "metadata": {},
     "output_type": "execute_result"
    }
   ],
   "source": [
    "# chechking if there are missing values\n",
    "df1.isnull().any() "
   ]
  },
  {
   "cell_type": "code",
   "execution_count": 443,
   "metadata": {},
   "outputs": [
    {
     "data": {
      "text/plain": [
       "SUBJID       int64\n",
       "BMI         object\n",
       "BMI_DATE    object\n",
       "dtype: object"
      ]
     },
     "execution_count": 443,
     "metadata": {},
     "output_type": "execute_result"
    }
   ],
   "source": [
    "# checking the types of the features \n",
    "df1.dtypes"
   ]
  },
  {
   "cell_type": "code",
   "execution_count": 444,
   "metadata": {},
   "outputs": [],
   "source": [
    "# BMI_Date correspond to the date of the BMI measure. This information will not help predict the PsO\n",
    "df1 = df1.drop(['BMI_DATE'], axis=1)"
   ]
  },
  {
   "cell_type": "code",
   "execution_count": 445,
   "metadata": {},
   "outputs": [
    {
     "data": {
      "text/plain": [
       "count    85789.000000\n",
       "mean        27.710231\n",
       "std          5.503270\n",
       "min         18.000000\n",
       "25%         24.000000\n",
       "50%         27.000000\n",
       "75%         30.000000\n",
       "max         59.000000\n",
       "Name: BMI, dtype: float64"
      ]
     },
     "execution_count": 445,
     "metadata": {},
     "output_type": "execute_result"
    }
   ],
   "source": [
    "# Treating the outliers in the BMI coulmn:\n",
    "\n",
    "df1_BMI_sup_60 = df1.loc[df1['BMI'] == '>=60']  # select the BMI greater than 60 \n",
    "df1_BMI_inf_18 = df1.loc[df1['BMI'] == '<18']   # select the BMI less than 18\n",
    "df1            = df1.drop(df1_BMI_sup_60.index)\n",
    "df1            = df1.drop(df1_BMI_inf_18.index) # drop the BMI greater than 60 and less than 18 from df1\n",
    "df1.BMI = pd.to_numeric(df1.BMI)                # convert BMI column fro object to numeric to find the max, min, mean,...\n",
    "df1.BMI.describe()"
   ]
  },
  {
   "cell_type": "code",
   "execution_count": 446,
   "metadata": {},
   "outputs": [
    {
     "name": "stdout",
     "output_type": "stream",
     "text": [
      "There are 51 patients with a BMI higher than 60 and 224 patients with a BMI less than 18.\n"
     ]
    }
   ],
   "source": [
    "print( 'There are', df1_BMI_sup_60.shape[0], 'patients with a BMI higher than 60 and', df1_BMI_inf_18.shape[0],\n",
    "     'patients with a BMI less than 18.') "
   ]
  },
  {
   "cell_type": "code",
   "execution_count": 447,
   "metadata": {},
   "outputs": [
    {
     "name": "stdout",
     "output_type": "stream",
     "text": [
      "There is only 1 patient with a BMI > 60 who has PsA and also only 1 patient with a BMI < 18 who have PsA\n"
     ]
    }
   ],
   "source": [
    "# finding out the number of patiens with BMI > 60 or with BMI < 18 who have PsA\n",
    "sup_60_SUBJID = list(df1_BMI_sup_60.SUBJID)\n",
    "df7_temp_1 = df7.loc[df7['SUBJID'].isin(df1_BMI_sup_60.SUBJID)]\n",
    "\n",
    "inf_18_SUBJID = list(df1_BMI_inf_18.SUBJID)\n",
    "df7_temp_2 = df7.loc[df7['SUBJID'].isin(df1_BMI_inf_18.SUBJID)]\n",
    "\n",
    "\n",
    "print('There is only', df7_temp_1.loc[df7_temp_1['PSOR_ARTH'] != 0].shape[0], \n",
    "      'patient with a BMI > 60 who has PsA and also only',\n",
    "      df7_temp_2.loc[df7_temp_2['PSOR_ARTH'] != 0].shape[0],\n",
    "      'patient with a BMI < 18 who have PsA')      "
   ]
  },
  {
   "cell_type": "code",
   "execution_count": 448,
   "metadata": {},
   "outputs": [
    {
     "name": "stdout",
     "output_type": "stream",
     "text": [
      "There are 4 patients with a BMI > 60 who have PsO and 8 patients with a BMI < 18 who also have PsO\n"
     ]
    }
   ],
   "source": [
    "# finding out the number of patiens with BMI > 60 or with BMI < 18 who have PsO\n",
    "sup_60_SUBJID = list(df1_BMI_sup_60.SUBJID)\n",
    "df7_temp_1 = df7.loc[df7['SUBJID'].isin(df1_BMI_sup_60.SUBJID)]\n",
    "\n",
    "inf_18_SUBJID = list(df1_BMI_inf_18.SUBJID)\n",
    "df7_temp_2 = df7.loc[df7['SUBJID'].isin(df1_BMI_inf_18.SUBJID)]\n",
    "\n",
    "\n",
    "print('There are', df7_temp_1.loc[df7_temp_1['PSORIASIS'] != 0].shape[0], \n",
    "      'patients with a BMI > 60 who have PsO and',\n",
    "      df7_temp_2.loc[df7_temp_2['PSORIASIS'] != 0].shape[0],\n",
    "      'patients with a BMI < 18 who also have PsO')      "
   ]
  },
  {
   "cell_type": "markdown",
   "metadata": {},
   "source": [
    "#### Note: since having a BMI >60 or a BMI < 18 is not normal, those rows are supposed to be outliers. We have checked that they only represent a negligible  amout of the patients having PsO (Psoriasis) or PsA (Psoriatic Arthritis), we assume that deleting those rows, will not affect the predicting power of our Machine Laerning algorithms."
   ]
  },
  {
   "cell_type": "code",
   "execution_count": 449,
   "metadata": {},
   "outputs": [],
   "source": [
    "#Save the modified df1 as a csv file\n",
    "df1.to_csv('Ahmed_Data/new_df1', encoding='utf-8', index=False)"
   ]
  },
  {
   "cell_type": "markdown",
   "metadata": {},
   "source": [
    "## II.2. Phenotype 2 : Number of membership months "
   ]
  },
  {
   "cell_type": "markdown",
   "metadata": {},
   "source": [
    "#### Note: this dataframe is not a real pheotype that will help predit the disease. It is only an additional infornation to perform a sanity check of the data ( patients need have a minimun number of membership months to be eligible to be part of the study)"
   ]
  },
  {
   "cell_type": "code",
   "execution_count": 420,
   "metadata": {},
   "outputs": [
    {
     "data": {
      "text/html": [
       "<div>\n",
       "<style>\n",
       "    .dataframe thead tr:only-child th {\n",
       "        text-align: right;\n",
       "    }\n",
       "\n",
       "    .dataframe thead th {\n",
       "        text-align: left;\n",
       "    }\n",
       "\n",
       "    .dataframe tbody tr th {\n",
       "        vertical-align: top;\n",
       "    }\n",
       "</style>\n",
       "<table border=\"1\" class=\"dataframe\">\n",
       "  <thead>\n",
       "    <tr style=\"text-align: right;\">\n",
       "      <th></th>\n",
       "      <th>SUBJID</th>\n",
       "      <th>MEMBERSHIP_MONTHS</th>\n",
       "    </tr>\n",
       "  </thead>\n",
       "  <tbody>\n",
       "    <tr>\n",
       "      <th>0</th>\n",
       "      <td>19276164281</td>\n",
       "      <td>82</td>\n",
       "    </tr>\n",
       "    <tr>\n",
       "      <th>1</th>\n",
       "      <td>73650474474</td>\n",
       "      <td>82</td>\n",
       "    </tr>\n",
       "    <tr>\n",
       "      <th>2</th>\n",
       "      <td>70253243832</td>\n",
       "      <td>77</td>\n",
       "    </tr>\n",
       "    <tr>\n",
       "      <th>3</th>\n",
       "      <td>725393664088</td>\n",
       "      <td>77</td>\n",
       "    </tr>\n",
       "    <tr>\n",
       "      <th>4</th>\n",
       "      <td>832026518377</td>\n",
       "      <td>51</td>\n",
       "    </tr>\n",
       "  </tbody>\n",
       "</table>\n",
       "</div>"
      ],
      "text/plain": [
       "         SUBJID MEMBERSHIP_MONTHS\n",
       "0   19276164281                82\n",
       "1   73650474474                82\n",
       "2   70253243832                77\n",
       "3  725393664088                77\n",
       "4  832026518377                51"
      ]
     },
     "execution_count": 420,
     "metadata": {},
     "output_type": "execute_result"
    }
   ],
   "source": [
    "# data importation\n",
    "df2    = pd.read_csv('/mnt/numberFive/capstone17/phenotypeData/C10004_PHENO2.csv')\n",
    "df2.head()\n",
    "# df2.shape"
   ]
  },
  {
   "cell_type": "code",
   "execution_count": 814,
   "metadata": {},
   "outputs": [
    {
     "data": {
      "text/plain": [
       "SUBJID               False\n",
       "MEMBERSHIP_MONTHS    False\n",
       "dtype: bool"
      ]
     },
     "execution_count": 814,
     "metadata": {},
     "output_type": "execute_result"
    }
   ],
   "source": [
    "# chechking if there missing values\n",
    "df2.isnull().any()"
   ]
  },
  {
   "cell_type": "markdown",
   "metadata": {},
   "source": [
    "- MEMBERSHIP_MONTHS : number of months between date of specimen and end of follow-up (09/30/2015) (NOT VERY CLEAR)"
   ]
  },
  {
   "cell_type": "code",
   "execution_count": 60,
   "metadata": {},
   "outputs": [],
   "source": [
    "df2.MEMBERSHIP_MONTHS.value_counts();"
   ]
  },
  {
   "cell_type": "code",
   "execution_count": 816,
   "metadata": {},
   "outputs": [],
   "source": [
    "# checking if patients with membership months less than 12 have PsO/PsA\n",
    "df2    = pd.read_csv('/mnt/numberFive/capstone17/phenotypeData/C10004_PHENO2.csv')\n",
    "df2_MEMBERSHIP_MONTHS_sup_100 = df2.loc[df2['MEMBERSHIP_MONTHS'] == '>=100']  # select the BMI greater than 60 \n",
    "df2                           = df2.drop(df2_MEMBERSHIP_MONTHS_sup_100.index)\n",
    "df2.MEMBERSHIP_MONTHS         = pd.to_numeric(df2.MEMBERSHIP_MONTHS)\n",
    "# df2.loc[df2['MEMBERSHIP_MONTHS'] <= 12].SUBJID"
   ]
  },
  {
   "cell_type": "code",
   "execution_count": 817,
   "metadata": {},
   "outputs": [
    {
     "data": {
      "text/plain": [
       "0    1877\n",
       "2      71\n",
       "1      40\n",
       "Name: PSORIASIS, dtype: int64"
      ]
     },
     "execution_count": 817,
     "metadata": {},
     "output_type": "execute_result"
    }
   ],
   "source": [
    "df7.loc[df7['SUBJID'].isin(df2.loc[df2['MEMBERSHIP_MONTHS'] <= 12].SUBJID)].PSORIASIS.value_counts()"
   ]
  },
  {
   "cell_type": "code",
   "execution_count": 818,
   "metadata": {},
   "outputs": [
    {
     "data": {
      "text/plain": [
       "0    1980\n",
       "2       5\n",
       "1       3\n",
       "Name: PSOR_ARTH, dtype: int64"
      ]
     },
     "execution_count": 818,
     "metadata": {},
     "output_type": "execute_result"
    }
   ],
   "source": [
    "df7.loc[df7['SUBJID'].isin(df2.loc[df2['MEMBERSHIP_MONTHS'] <= 12].SUBJID)].PSOR_ARTH.value_counts()"
   ]
  },
  {
   "cell_type": "markdown",
   "metadata": {},
   "source": [
    "## II.3. Phenotype 3: Gender, Race, Alcohol and Smoking"
   ]
  },
  {
   "cell_type": "code",
   "execution_count": 421,
   "metadata": {},
   "outputs": [
    {
     "data": {
      "text/html": [
       "<div>\n",
       "<style>\n",
       "    .dataframe thead tr:only-child th {\n",
       "        text-align: right;\n",
       "    }\n",
       "\n",
       "    .dataframe thead th {\n",
       "        text-align: left;\n",
       "    }\n",
       "\n",
       "    .dataframe tbody tr th {\n",
       "        vertical-align: top;\n",
       "    }\n",
       "</style>\n",
       "<table border=\"1\" class=\"dataframe\">\n",
       "  <thead>\n",
       "    <tr style=\"text-align: right;\">\n",
       "      <th></th>\n",
       "      <th>SUBJID</th>\n",
       "      <th>ALCOHOL_STATUS</th>\n",
       "      <th>GENDER</th>\n",
       "      <th>REVISED_RPGEHRACE</th>\n",
       "      <th>SMOKING_STATUS</th>\n",
       "    </tr>\n",
       "  </thead>\n",
       "  <tbody>\n",
       "    <tr>\n",
       "      <th>0</th>\n",
       "      <td>247982161041</td>\n",
       "      <td>1.0</td>\n",
       "      <td>2</td>\n",
       "      <td>white</td>\n",
       "      <td>2.0</td>\n",
       "    </tr>\n",
       "    <tr>\n",
       "      <th>1</th>\n",
       "      <td>438242670073</td>\n",
       "      <td>1.0</td>\n",
       "      <td>2</td>\n",
       "      <td>white</td>\n",
       "      <td>1.0</td>\n",
       "    </tr>\n",
       "    <tr>\n",
       "      <th>2</th>\n",
       "      <td>475454946502</td>\n",
       "      <td>1.0</td>\n",
       "      <td>2</td>\n",
       "      <td>white</td>\n",
       "      <td>1.0</td>\n",
       "    </tr>\n",
       "    <tr>\n",
       "      <th>3</th>\n",
       "      <td>824999377278</td>\n",
       "      <td>1.0</td>\n",
       "      <td>2</td>\n",
       "      <td>hispanic</td>\n",
       "      <td>2.0</td>\n",
       "    </tr>\n",
       "    <tr>\n",
       "      <th>4</th>\n",
       "      <td>962653160587</td>\n",
       "      <td>0.0</td>\n",
       "      <td>2</td>\n",
       "      <td>hispanic</td>\n",
       "      <td>2.0</td>\n",
       "    </tr>\n",
       "  </tbody>\n",
       "</table>\n",
       "</div>"
      ],
      "text/plain": [
       "         SUBJID  ALCOHOL_STATUS  GENDER REVISED_RPGEHRACE  SMOKING_STATUS\n",
       "0  247982161041             1.0       2             white             2.0\n",
       "1  438242670073             1.0       2             white             1.0\n",
       "2  475454946502             1.0       2             white             1.0\n",
       "3  824999377278             1.0       2          hispanic             2.0\n",
       "4  962653160587             0.0       2          hispanic             2.0"
      ]
     },
     "execution_count": 421,
     "metadata": {},
     "output_type": "execute_result"
    }
   ],
   "source": [
    "# data importation:\n",
    "df3    = pd.read_csv('/mnt/numberFive/capstone17/phenotypeData/C10004_PHENO3.csv')\n",
    "df3.head()"
   ]
  },
  {
   "cell_type": "markdown",
   "metadata": {},
   "source": [
    "- ALCOHOL_STATUS:    0=not a drinker, 1=drinker\n",
    "- GENDER:            1=male, 2 = female\n",
    "- REVISED_RPGEHRACE: race\n",
    "- SMOKING_STATUS:    1=Never, 2=Former, 3=Current "
   ]
  },
  {
   "cell_type": "code",
   "execution_count": 820,
   "metadata": {},
   "outputs": [
    {
     "data": {
      "text/plain": [
       "1.0    50926\n",
       "0.0    32548\n",
       "Name: ALCOHOL_STATUS, dtype: int64"
      ]
     },
     "execution_count": 820,
     "metadata": {},
     "output_type": "execute_result"
    }
   ],
   "source": [
    "df3.ALCOHOL_STATUS.value_counts()"
   ]
  },
  {
   "cell_type": "code",
   "execution_count": 821,
   "metadata": {},
   "outputs": [
    {
     "data": {
      "text/plain": [
       "2    47546\n",
       "1    38903\n",
       "Name: GENDER, dtype: int64"
      ]
     },
     "execution_count": 821,
     "metadata": {},
     "output_type": "execute_result"
    }
   ],
   "source": [
    "df3.GENDER.value_counts()"
   ]
  },
  {
   "cell_type": "code",
   "execution_count": 822,
   "metadata": {},
   "outputs": [
    {
     "data": {
      "text/plain": [
       "white              70049\n",
       "asian               7072\n",
       "hispanic            5930\n",
       "black               2759\n",
       "other/uncertain      639\n",
       "Name: REVISED_RPGEHRACE, dtype: int64"
      ]
     },
     "execution_count": 822,
     "metadata": {},
     "output_type": "execute_result"
    }
   ],
   "source": [
    "df3.REVISED_RPGEHRACE.value_counts()"
   ]
  },
  {
   "cell_type": "code",
   "execution_count": 823,
   "metadata": {},
   "outputs": [
    {
     "data": {
      "text/plain": [
       "1.0    47610\n",
       "2.0    30947\n",
       "3.0     4183\n",
       "Name: SMOKING_STATUS, dtype: int64"
      ]
     },
     "execution_count": 823,
     "metadata": {},
     "output_type": "execute_result"
    }
   ],
   "source": [
    "df3.SMOKING_STATUS.value_counts()"
   ]
  },
  {
   "cell_type": "markdown",
   "metadata": {},
   "source": [
    "#### Note : No outliers in df3"
   ]
  },
  {
   "cell_type": "markdown",
   "metadata": {},
   "source": [
    "## II.4. Phenotype 4: Lab Tests "
   ]
  },
  {
   "cell_type": "code",
   "execution_count": 422,
   "metadata": {},
   "outputs": [
    {
     "name": "stderr",
     "output_type": "stream",
     "text": [
      "/opt/anaconda/anaconda3/lib/python3.6/site-packages/IPython/core/interactiveshell.py:2698: DtypeWarning: Columns (1,5,6) have mixed types. Specify dtype option on import or set low_memory=False.\n",
      "  interactivity=interactivity, compiler=compiler, result=result)\n"
     ]
    },
    {
     "data": {
      "text/html": [
       "<div>\n",
       "<style>\n",
       "    .dataframe thead tr:only-child th {\n",
       "        text-align: right;\n",
       "    }\n",
       "\n",
       "    .dataframe thead th {\n",
       "        text-align: left;\n",
       "    }\n",
       "\n",
       "    .dataframe tbody tr th {\n",
       "        vertical-align: top;\n",
       "    }\n",
       "</style>\n",
       "<table border=\"1\" class=\"dataframe\">\n",
       "  <thead>\n",
       "    <tr style=\"text-align: right;\">\n",
       "      <th></th>\n",
       "      <th>SUBJID</th>\n",
       "      <th>HDL_RESULT</th>\n",
       "      <th>LAB_DATE</th>\n",
       "      <th>LAB_RESULT</th>\n",
       "      <th>LAB_TYPE</th>\n",
       "      <th>LDL_RESULT</th>\n",
       "      <th>TRIGLYC_RESULT</th>\n",
       "    </tr>\n",
       "  </thead>\n",
       "  <tbody>\n",
       "    <tr>\n",
       "      <th>0</th>\n",
       "      <td>677498155877</td>\n",
       "      <td>NaN</td>\n",
       "      <td>24FEB1965:00:00:00</td>\n",
       "      <td>6</td>\n",
       "      <td>RHEUMATOID</td>\n",
       "      <td>NaN</td>\n",
       "      <td>NaN</td>\n",
       "    </tr>\n",
       "    <tr>\n",
       "      <th>1</th>\n",
       "      <td>557316916037</td>\n",
       "      <td>NaN</td>\n",
       "      <td>01FEB1975:00:00:00</td>\n",
       "      <td>1</td>\n",
       "      <td>RHEUMATOID</td>\n",
       "      <td>NaN</td>\n",
       "      <td>NaN</td>\n",
       "    </tr>\n",
       "    <tr>\n",
       "      <th>2</th>\n",
       "      <td>169475650469</td>\n",
       "      <td>NaN</td>\n",
       "      <td>30MAY1963:00:00:00</td>\n",
       "      <td>32</td>\n",
       "      <td>RHEUMATOID</td>\n",
       "      <td>NaN</td>\n",
       "      <td>NaN</td>\n",
       "    </tr>\n",
       "    <tr>\n",
       "      <th>3</th>\n",
       "      <td>392029596797</td>\n",
       "      <td>NaN</td>\n",
       "      <td>29JAN1960:00:00:00</td>\n",
       "      <td>19</td>\n",
       "      <td>RHEUMATOID</td>\n",
       "      <td>NaN</td>\n",
       "      <td>NaN</td>\n",
       "    </tr>\n",
       "    <tr>\n",
       "      <th>4</th>\n",
       "      <td>556307180696</td>\n",
       "      <td>NaN</td>\n",
       "      <td>16OCT1962:00:00:00</td>\n",
       "      <td>9</td>\n",
       "      <td>RHEUMATOID</td>\n",
       "      <td>NaN</td>\n",
       "      <td>NaN</td>\n",
       "    </tr>\n",
       "  </tbody>\n",
       "</table>\n",
       "</div>"
      ],
      "text/plain": [
       "         SUBJID HDL_RESULT            LAB_DATE LAB_RESULT    LAB_TYPE  \\\n",
       "0  677498155877        NaN  24FEB1965:00:00:00          6  RHEUMATOID   \n",
       "1  557316916037        NaN  01FEB1975:00:00:00          1  RHEUMATOID   \n",
       "2  169475650469        NaN  30MAY1963:00:00:00         32  RHEUMATOID   \n",
       "3  392029596797        NaN  29JAN1960:00:00:00         19  RHEUMATOID   \n",
       "4  556307180696        NaN  16OCT1962:00:00:00          9  RHEUMATOID   \n",
       "\n",
       "  LDL_RESULT TRIGLYC_RESULT  \n",
       "0        NaN            NaN  \n",
       "1        NaN            NaN  \n",
       "2        NaN            NaN  \n",
       "3        NaN            NaN  \n",
       "4        NaN            NaN  "
      ]
     },
     "execution_count": 422,
     "metadata": {},
     "output_type": "execute_result"
    }
   ],
   "source": [
    "# data importation:\n",
    "df4    = pd.read_csv('/mnt/numberFive/capstone17/phenotypeData/C10004_PHENO4.csv')\n",
    "df4.head()"
   ]
  },
  {
   "cell_type": "code",
   "execution_count": 825,
   "metadata": {},
   "outputs": [
    {
     "data": {
      "text/plain": [
       "(4367933, 7)"
      ]
     },
     "execution_count": 825,
     "metadata": {},
     "output_type": "execute_result"
    }
   ],
   "source": [
    "df4.shape"
   ]
  },
  {
   "cell_type": "markdown",
   "metadata": {},
   "source": [
    "#### Note: It is not possible to use dataframe df4 in its intial format: sevral patients "
   ]
  },
  {
   "cell_type": "markdown",
   "metadata": {},
   "source": [
    "### II.4.1 Columns \"HDL_RESULT\" , \"LDL_RESULT\" & \"TRIGLYC_RESULT\""
   ]
  },
  {
   "cell_type": "markdown",
   "metadata": {},
   "source": [
    "#### II.4.1.1 Finding missing Values in HDL, LDL and Trigycerides in  df4"
   ]
  },
  {
   "cell_type": "code",
   "execution_count": 86,
   "metadata": {},
   "outputs": [
    {
     "data": {
      "text/html": [
       "<div>\n",
       "<style>\n",
       "    .dataframe thead tr:only-child th {\n",
       "        text-align: right;\n",
       "    }\n",
       "\n",
       "    .dataframe thead th {\n",
       "        text-align: left;\n",
       "    }\n",
       "\n",
       "    .dataframe tbody tr th {\n",
       "        vertical-align: top;\n",
       "    }\n",
       "</style>\n",
       "<table border=\"1\" class=\"dataframe\">\n",
       "  <thead>\n",
       "    <tr style=\"text-align: right;\">\n",
       "      <th></th>\n",
       "      <th>Missing</th>\n",
       "      <th>Non Missing</th>\n",
       "    </tr>\n",
       "  </thead>\n",
       "  <tbody>\n",
       "    <tr>\n",
       "      <th>HDL_RESULT</th>\n",
       "      <td>215003</td>\n",
       "      <td>4152930</td>\n",
       "    </tr>\n",
       "    <tr>\n",
       "      <th>LDL_RESULT</th>\n",
       "      <td>215003</td>\n",
       "      <td>4152930</td>\n",
       "    </tr>\n",
       "    <tr>\n",
       "      <th>TRIGLYC_RESULT</th>\n",
       "      <td>215003</td>\n",
       "      <td>4152930</td>\n",
       "    </tr>\n",
       "  </tbody>\n",
       "</table>\n",
       "</div>"
      ],
      "text/plain": [
       "                Missing  Non Missing\n",
       "HDL_RESULT       215003      4152930\n",
       "LDL_RESULT       215003      4152930\n",
       "TRIGLYC_RESULT   215003      4152930"
      ]
     },
     "execution_count": 86,
     "metadata": {},
     "output_type": "execute_result"
    }
   ],
   "source": [
    "data = np.array([df4.HDL_RESULT.isnull().value_counts()[0],df4.shape[0] - df4.HDL_RESULT.isnull().value_counts()[0],\n",
    "                 df4.LDL_RESULT.isnull().value_counts()[0],df4.shape[0]  - df4.LDL_RESULT.isnull().value_counts()[0],\n",
    "                 df4.TRIGLYC_RESULT.isnull().value_counts()[0],df4.shape[0]  - df4.TRIGLYC_RESULT.isnull().value_counts()[0]]).reshape(3,2)\n",
    "\n",
    "df4_Missing_Values_Summary = pd.DataFrame(data, columns = ['Missing', 'Non Missing'],\n",
    "                                                index   = ['HDL_RESULT','LDL_RESULT','TRIGLYC_RESULT'])\n",
    "df4_Missing_Values_Summary"
   ]
  },
  {
   "cell_type": "markdown",
   "metadata": {},
   "source": [
    "#### II.4.1.2. keeping only the rows where the HDL, LDL and Trigycerides results are not missing"
   ]
  },
  {
   "cell_type": "code",
   "execution_count": 87,
   "metadata": {},
   "outputs": [
    {
     "name": "stdout",
     "output_type": "stream",
     "text": [
      "False\n",
      "False\n",
      "False\n"
     ]
    }
   ],
   "source": [
    "df4_temp = df4[['SUBJID','HDL_RESULT','LDL_RESULT','TRIGLYC_RESULT']]\n",
    "df4_temp = df4_temp[pd.notnull(df4_temp['HDL_RESULT'])]\n",
    "\n",
    "# checking that there are no missing value left\n",
    "print(df4_temp.HDL_RESULT.isnull().any())\n",
    "print(df4_temp.LDL_RESULT.isnull().any())\n",
    "print(df4_temp.TRIGLYC_RESULT.isnull().any())"
   ]
  },
  {
   "cell_type": "markdown",
   "metadata": {},
   "source": [
    "#### II.4.1.3. Dealing with the string values: since we need to compare the test results to the normal range, all the cells of the dataframe must be numeric"
   ]
  },
  {
   "cell_type": "code",
   "execution_count": 88,
   "metadata": {},
   "outputs": [],
   "source": [
    "# replacing \"<30\" by 29 and \">=400\" by 401 in TRIGLYC_RESULT column\n",
    "df4_temp.TRIGLYC_RESULT = df4_temp.TRIGLYC_RESULT.replace('<30',29)\n",
    "df4_temp.TRIGLYC_RESULT = df4_temp.TRIGLYC_RESULT.replace('>=400',401)\n",
    "df4_temp.TRIGLYC_RESULT = pd.to_numeric(df4_temp.TRIGLYC_RESULT)\n",
    "\n",
    "# replacing \"<20\" by 19 and \">110\" by 111 in TRIGLYC_RESULT column\n",
    "df4_temp.HDL_RESULT = df4_temp.HDL_RESULT.replace('>110',111)\n",
    "df4_temp.HDL_RESULT = df4_temp.HDL_RESULT.replace('<20',19)\n",
    "df4_temp.HDL_RESULT = pd.to_numeric(df4_temp.HDL_RESULT)\n",
    "\n",
    "# replacing \"<25\" by 24 and \">200\" by 201 in TRIGLYC_RESULT column\n",
    "df4_temp.LDL_RESULT = df4_temp.LDL_RESULT.replace('<25',24)\n",
    "df4_temp.LDL_RESULT = df4_temp.LDL_RESULT.replace('>200',201)\n",
    "df4_temp.LDL_RESULT = pd.to_numeric(df4_temp.LDL_RESULT)"
   ]
  },
  {
   "cell_type": "markdown",
   "metadata": {},
   "source": [
    "#### II.4.1.4. merging the AGE and GENDER with df4_temp"
   ]
  },
  {
   "cell_type": "code",
   "execution_count": 89,
   "metadata": {},
   "outputs": [],
   "source": [
    "age    = pd.read_csv('/mnt/numberFive/capstone17/analysis/PH_new_features/age_final.csv')\n",
    "age    = age[['SUBJID', 'Age']]\n",
    "GENDER = df3[['SUBJID', 'GENDER']]\n",
    "df4_temp   = pd.merge(df4_temp,age, how='outer', on='SUBJID')\n",
    "df4_temp   = pd.merge(df4_temp,GENDER, how='outer', on='SUBJID')"
   ]
  },
  {
   "cell_type": "code",
   "execution_count": 90,
   "metadata": {},
   "outputs": [
    {
     "data": {
      "text/html": [
       "<div>\n",
       "<style>\n",
       "    .dataframe thead tr:only-child th {\n",
       "        text-align: right;\n",
       "    }\n",
       "\n",
       "    .dataframe thead th {\n",
       "        text-align: left;\n",
       "    }\n",
       "\n",
       "    .dataframe tbody tr th {\n",
       "        vertical-align: top;\n",
       "    }\n",
       "</style>\n",
       "<table border=\"1\" class=\"dataframe\">\n",
       "  <thead>\n",
       "    <tr style=\"text-align: right;\">\n",
       "      <th></th>\n",
       "      <th>SUBJID</th>\n",
       "      <th>HDL_RESULT</th>\n",
       "      <th>LDL_RESULT</th>\n",
       "      <th>TRIGLYC_RESULT</th>\n",
       "      <th>Age</th>\n",
       "      <th>GENDER</th>\n",
       "    </tr>\n",
       "  </thead>\n",
       "  <tbody>\n",
       "    <tr>\n",
       "      <th>0</th>\n",
       "      <td>372656458730</td>\n",
       "      <td>81.0</td>\n",
       "      <td>126.0</td>\n",
       "      <td>69.0</td>\n",
       "      <td>73.0</td>\n",
       "      <td>2</td>\n",
       "    </tr>\n",
       "    <tr>\n",
       "      <th>1</th>\n",
       "      <td>372656458730</td>\n",
       "      <td>74.0</td>\n",
       "      <td>135.0</td>\n",
       "      <td>82.0</td>\n",
       "      <td>73.0</td>\n",
       "      <td>2</td>\n",
       "    </tr>\n",
       "    <tr>\n",
       "      <th>2</th>\n",
       "      <td>372656458730</td>\n",
       "      <td>82.0</td>\n",
       "      <td>113.0</td>\n",
       "      <td>85.0</td>\n",
       "      <td>73.0</td>\n",
       "      <td>2</td>\n",
       "    </tr>\n",
       "    <tr>\n",
       "      <th>3</th>\n",
       "      <td>340928337320</td>\n",
       "      <td>48.0</td>\n",
       "      <td>147.0</td>\n",
       "      <td>136.0</td>\n",
       "      <td>77.0</td>\n",
       "      <td>1</td>\n",
       "    </tr>\n",
       "    <tr>\n",
       "      <th>4</th>\n",
       "      <td>340928337320</td>\n",
       "      <td>58.0</td>\n",
       "      <td>60.0</td>\n",
       "      <td>93.0</td>\n",
       "      <td>77.0</td>\n",
       "      <td>1</td>\n",
       "    </tr>\n",
       "  </tbody>\n",
       "</table>\n",
       "</div>"
      ],
      "text/plain": [
       "         SUBJID  HDL_RESULT  LDL_RESULT  TRIGLYC_RESULT   Age  GENDER\n",
       "0  372656458730        81.0       126.0            69.0  73.0       2\n",
       "1  372656458730        74.0       135.0            82.0  73.0       2\n",
       "2  372656458730        82.0       113.0            85.0  73.0       2\n",
       "3  340928337320        48.0       147.0           136.0  77.0       1\n",
       "4  340928337320        58.0        60.0            93.0  77.0       1"
      ]
     },
     "execution_count": 90,
     "metadata": {},
     "output_type": "execute_result"
    }
   ],
   "source": [
    "df4_temp.head()"
   ]
  },
  {
   "cell_type": "markdown",
   "metadata": {},
   "source": [
    "#### II.4.1.5. defining the 3 levels \"good\", \"high\" & \"low\" for each test \n",
    "\n",
    "- Note : I commented this code because it takes a lot of time to be executed (for loop over 215k rows). We execute only once."
   ]
  },
  {
   "cell_type": "code",
   "execution_count": 92,
   "metadata": {},
   "outputs": [],
   "source": [
    "HDL = []\n",
    "LDL = []\n",
    "TRIGLYC = []\n",
    "\n",
    "for i in range(df4_temp.shape[0]):\n",
    "# filling the HDL new column    \n",
    "    if df4_temp.Age.values[i] <= 9:\n",
    "        if df4_temp.TRIGLYC_RESULT.values[i] < 75:\n",
    "            TRIGLYC = TRIGLYC + [\"Low Risk\"]\n",
    "        elif df4_temp.TRIGLYC_RESULT.values[i] > 99:\n",
    "            TRIGLYC = TRIGLYC + [\"High Risk\"]\n",
    "        else:\n",
    "            TRIGLYC = TRIGLYC + [\"Normal Risk\"]\n",
    "    elif df4_temp.Age.values[i] >= 19:\n",
    "        if df4_temp.TRIGLYC_RESULT.values[i] < 100:\n",
    "            TRIGLYC = TRIGLYC + [\"Optimal\"]\n",
    "        elif df4_temp.TRIGLYC_RESULT.values[i] >= 100 and df4_temp.TRIGLYC_RESULT.values[i] <= 149:\n",
    "            TRIGLYC = TRIGLYC + [\"Low Risk\"]\n",
    "        elif df4_temp.TRIGLYC_RESULT.values[i] >= 150 and df4_temp.TRIGLYC_RESULT.values[i] <= 199:\n",
    "            TRIGLYC = TRIGLYC + [\"Normal Risk\"]\n",
    "        elif df4_temp.TRIGLYC_RESULT.values[i] >= 200 and df4_temp.TRIGLYC_RESULT.values[i] <= 499:\n",
    "            TRIGLYC = TRIGLYC + [\"High Risk\"]\n",
    "        else:\n",
    "            TRIGLYC = TRIGLYC + [\"Very High Risk\"]\n",
    "    else:\n",
    "        if df4_temp.TRIGLYC_RESULT.values[i] < 90:\n",
    "            TRIGLYC = TRIGLYC + [\"Low Risk\"]\n",
    "        elif df4_temp.TRIGLYC_RESULT.values[i] > 129:\n",
    "            TRIGLYC = TRIGLYC + [\"High Risk\"]\n",
    "        else:\n",
    "            TRIGLYC = TRIGLYC + [\"Normal Risk\"]\n",
    "            \n",
    "        \n",
    "        \n",
    "# filling the HDL new column         \n",
    "    if df4_temp.Age.values[i] <= 18:\n",
    "        if df4_temp.HDL_RESULT.values[i] < 110:\n",
    "            HDL = HDL + [\"Low Risk\"]\n",
    "        elif df4_temp.HDL_RESULT.values[i] > 129:\n",
    "            HDL = HDL + [\"High Risk\"]\n",
    "        else:\n",
    "            HDL = HDL + [\"Normal Risk\"]\n",
    "    else:\n",
    "        if df4_temp.HDL_RESULT.values[i] < 100:\n",
    "            HDL = HDL + [\"Optimal\"]\n",
    "        elif df4_temp.HDL_RESULT.values[i] >= 100 and df4_temp.HDL_RESULT.values[i] <= 129:\n",
    "            HDL = HDL + [\"Low Risk\"]\n",
    "        elif df4_temp.HDL_RESULT.values[i] >= 130 and df4_temp.HDL_RESULT.values[i] <= 159:\n",
    "            HDL = HDL + [\"Normal Risk\"]\n",
    "        elif df4_temp.HDL_RESULT.values[i] >= 160 and df4_temp.HDL_RESULT.values[i] <= 189:\n",
    "            HDL = HDL + [\"High Risk\"]\n",
    "        else:\n",
    "            HDL = HDL + [\"Very High Risk\"]\n",
    "\n",
    "            \n",
    "\n",
    "# filling the LDL new column  \n",
    "    if df4_temp.GENDER.values[i] == 1:\n",
    "        if df4_temp.Age.values[i] <= 18:\n",
    "            if df4_temp.LDL_RESULT.values[i] < 40:\n",
    "                LDL = LDL + [\"Low\"]\n",
    "            elif df4_temp.LDL_RESULT.values[i] > 45:\n",
    "                LDL = LDL + [\"Optimal\"]\n",
    "            else:\n",
    "                LDL = LDL + [\"Normal\"]\n",
    "        else:\n",
    "            if df4_temp.LDL_RESULT.values[i] < 40:\n",
    "                LDL = LDL + [\"Low\"]\n",
    "            elif df4_temp.LDL_RESULT.values[i] > 59:\n",
    "                LDL = LDL + [\"Optimal\"]\n",
    "            else:\n",
    "                LDL = LDL + [\"Normal\"]\n",
    "    else:\n",
    "        if df4_temp.Age.values[i] <= 18:\n",
    "            if df4_temp.LDL_RESULT.values[i] < 40:\n",
    "                LDL = LDL + [\"Low\"]\n",
    "            elif df4_temp.LDL_RESULT.values[i] > 45:\n",
    "                LDL = LDL + [\"Optimal\"]\n",
    "            else:\n",
    "                LDL = LDL + [\"Normal\"]\n",
    "        else:\n",
    "            if df4_temp.LDL_RESULT.values[i] < 50:\n",
    "                LDL = LDL + [\"Low\"]\n",
    "            elif df4_temp.LDL_RESULT.values[i] > 59:\n",
    "                LDL = LDL + [\"Optimal\"]\n",
    "            else:\n",
    "                LDL = LDL + [\"Normal\"]   "
   ]
  },
  {
   "cell_type": "code",
   "execution_count": 94,
   "metadata": {},
   "outputs": [],
   "source": [
    "# adding the 3 levels of the new catgorical features for each test defined above\n",
    "    \n",
    "df4_temp['HDL'] = HDL\n",
    "df4_temp['LDL'] = LDL\n",
    "df4_temp['TRIGLYC'] = TRIGLYC \n",
    "df4_temp.head()"
   ]
  },
  {
   "cell_type": "markdown",
   "metadata": {},
   "source": [
    "#### II.4.1.6. creating the new datafrme new_df4 with the nine new features, to be merged with the main dataframe \"data\"\n",
    "- Note : I commented this code because it takes a lot of time to be executed (for loop over 85k rows). We execute only once."
   ]
  },
  {
   "cell_type": "code",
   "execution_count": null,
   "metadata": {},
   "outputs": [],
   "source": [
    "SUBJID = pd.unique(df4_temp.SUBJID)\n",
    "\n",
    "HDL_Low = []\n",
    "HDL_Normal = []\n",
    "HDL_Optimal = []\n",
    "\n",
    "LDL_Optimal = []\n",
    "LDL_Low_Risk = []\n",
    "LDL_Normal_Risk = []\n",
    "LDL_High_Risk = []\n",
    "LDL_Very_High_Risk = []\n",
    "\n",
    "TRIGLYC_Optimal = []\n",
    "TRIGLYC_Low_Risk = []\n",
    "TRIGLYC_Normal_Risk = []\n",
    "TRIGLYC_High_Risk = []\n",
    "TRIGLYC_Very_High_Risk = []\n",
    "\n",
    "for i in SUBJID:\n",
    "    df = df4_temp.loc[df4_temp['SUBJID'] == i]\n",
    "    L = df.shape[0]\n",
    "    HDL_Low = HDL_Low + [df.loc[df['HDL'] == 'Low'].shape[0] /L]\n",
    "    HDL_Normal = HDL_Normal + [df.loc[df['HDL'] == 'Normal'].shape[0] /L]\n",
    "    HDL_Optimal = HDL_Optimal + [df.loc[df['HDL'] == 'Optimal'].shape[0] /L]\n",
    "    \n",
    "    LDL_Optimal = LDL_Optimal + [df.loc[df['LDL'] == 'Optimal'].shape[0] /L]\n",
    "    LDL_Low_Risk = LDL_Low_Risk + [df.loc[df['LDL'] == 'Low Risk'].shape[0] /L]\n",
    "    LDL_Normal_Risk = LDL_Normal_Risk + [df.loc[df['LDL'] == 'Normal Risk'].shape[0] /L]\n",
    "    LDL_High_Risk = LDL_High_Risk + [df.loc[df['LDL'] == 'High Risk'].shape[0] /L]\n",
    "    LDL_Very_High_Risk = LDL_Very_High_Risk + [df.loc[df['LDL'] == 'Very High Risk'].shape[0] /L]\n",
    "    \n",
    "    TRIGLYC_Optimal = TRIGLYC_Optimal + [df.loc[df['TRIGLYC'] == 'Optimal'].shape[0] /L]\n",
    "    TRIGLYC_Low_Risk = TRIGLYC_Low_Risk + [df.loc[df['TRIGLYC'] == 'Low Risk'].shape[0] /L]\n",
    "    TRIGLYC_Normal_Risk = TRIGLYC_Normal_Risk + [df.loc[df['TRIGLYC'] == 'Normal Risk'].shape[0] /L]\n",
    "    TRIGLYC_High_Risk = TRIGLYC_High_Risk + [df.loc[df['TRIGLYC'] == 'High Risk'].shape[0] /L]\n",
    "    TRIGLYC_Very_High_Risk = TRIGLYC_Very_High_Risk + [df.loc[df['TRIGLYC'] == 'Very High Risk'].shape[0] /L]\n",
    "\n",
    "new_df4 = pd.DataFrame ({ 'SUBJID' : SUBJID, \n",
    "                        'HDL_Low' : HDL_Low,\n",
    "                        'HDL_Normal' : HDL_Normal,\n",
    "                        'HDL_Optimal' : HDL_Optimal,\n",
    "                         \n",
    "                        'LDL_Optimal' : LDL_Optimal,\n",
    "                        'LDL_Low_Risk' : LDL_Low_Risk,\n",
    "                        'LDL_Normal_Risk' :  LDL_Normal_Risk,\n",
    "                        'LDL_High_Risk' :  LDL_High_Risk,\n",
    "                        'LDL_Very_High_Risk' :  LDL_Very_High_Risk,\n",
    "                         \n",
    "                        'TRIGLYC_Optimal' :  TRIGLYC_Optimal,\n",
    "                        'TRIGLYC_Low_Risk' :  TRIGLYC_Low_Risk,\n",
    "                        'TRIGLYC_Normal_Risk' : TRIGLYC_Normal_Risk,\n",
    "                        'TRIGLYC_High_Risk' : TRIGLYC_High_Risk,\n",
    "                        'TRIGLYC_Very_High_Risk' : TRIGLYC_Very_High_Risk } ) \n",
    "\n",
    "# reordering the columns of new_df4\n",
    "col = ['SUBJID', 'HDL_Low', 'HDL_Normal', 'HDL_Optimal', 'LDL_Optimal', 'LDL_Low_Risk', 'LDL_Normal_Risk',\n",
    "       'LDL_High_Risk', 'LDL_Very_High_Risk', 'TRIGLYC_Optimal','TRIGLYC_Low_Risk', 'TRIGLYC_Normal_Risk',\n",
    "      'TRIGLYC_High_Risk', 'TRIGLYC_Very_High_Risk']\n",
    "new_df4 = new_df4[col]\n",
    "new_df4.head()"
   ]
  },
  {
   "cell_type": "code",
   "execution_count": 95,
   "metadata": {},
   "outputs": [],
   "source": [
    "new_df4['SUBJID'] = pd.unique(df4_temp.SUBJID)"
   ]
  },
  {
   "cell_type": "code",
   "execution_count": 96,
   "metadata": {},
   "outputs": [
    {
     "data": {
      "text/plain": [
       "array(['HDL_Low', 'HDL_Normal', 'HDL_Optimal', 'LDL_Optimal',\n",
       "       'LDL_Low_Risk', 'LDL_Normal_Risk', 'LDL_High_Risk',\n",
       "       'LDL_Very_High_Risk', 'TRIGLYC_Optimal', 'TRIGLYC_Low_Risk',\n",
       "       'TRIGLYC_Normal_Risk', 'TRIGLYC_High_Risk',\n",
       "       'TRIGLYC_Very_High_Risk', 'SUBJID'], dtype=object)"
      ]
     },
     "execution_count": 96,
     "metadata": {},
     "output_type": "execute_result"
    }
   ],
   "source": [
    "new_df4.columns.values"
   ]
  },
  {
   "cell_type": "markdown",
   "metadata": {},
   "source": [
    "#### II.7) Saving the new_df4 dataframe into a csv file"
   ]
  },
  {
   "cell_type": "code",
   "execution_count": 97,
   "metadata": {},
   "outputs": [],
   "source": [
    "new_df4.to_csv('Ahmed_Data/new_df4_LDL_HDL_Try.csv', encoding='utf-8', index=False)"
   ]
  },
  {
   "cell_type": "markdown",
   "metadata": {},
   "source": [
    "##### Creating the final modfied phenptype 4 (Lab Tests): other columns have been treated by other members of the research project. I directly use their work"
   ]
  },
  {
   "cell_type": "code",
   "execution_count": 211,
   "metadata": {},
   "outputs": [],
   "source": [
    "ALC        = pd.read_csv('PH_new_features/new_a1c.csv', index_col= 0)\n",
    "BUN        = pd.read_csv('PH_new_features/new_bun.csv', index_col= 0)\n",
    "CCP        = pd.read_csv('PH_new_features/new_ccp.csv', index_col= 0)\n",
    "CREA       = pd.read_csv('PH_new_features/new_crea.csv', index_col= 0)\n",
    "CRP        = pd.read_csv('PH_new_features/new_crp.csv', index_col= 0)\n",
    "ESR        = pd.read_csv('PH_new_features/new_esr_modified.csv', index_col= 0)\n",
    "GLUC       = pd.read_csv('PH_new_features/new_glucose.csv', index_col= 0)\n",
    "RHEUMATOID = pd.read_csv('PH_new_features/new_RHEUMATOID.csv', index_col= 0)\n",
    "v_d        = pd.read_csv('PH_new_features/new_v_D.csv', index_col= 0)\n",
    "AGE        = pd.read_csv('PH_new_features/age_final.csv', index_col= 0)\n",
    "LDL_HDL_TRY = pd.read_csv('Ahmed_Data/new_df4_LDL_HDL_Try.csv', index_col= 0 )"
   ]
  },
  {
   "cell_type": "markdown",
   "metadata": {},
   "source": [
    "#### Here we check that all the treated columns have the same shape: we notice that some of them have less 86064 rows which is the number of the patients in ou data set. This will result in the appearance of NaN's when I will merge all the columns."
   ]
  },
  {
   "cell_type": "code",
   "execution_count": 212,
   "metadata": {},
   "outputs": [
    {
     "name": "stdout",
     "output_type": "stream",
     "text": [
      "shape of a1c is  (55922, 4)\n",
      "shape of bun is  (69725, 4)\n",
      "shape of ccp is  (2565, 4)\n",
      "shape of crea is  (85168, 4)\n",
      "shape of crp is  (19727, 3)\n",
      "shape of esr is  (86064, 3)\n",
      "shape of GLUC is  (83805, 4)\n",
      "shape of RHEUMATOID is  (17430, 4)\n",
      "shape of v_d is  (47889, 4)\n",
      "shape of AGE is  (86064, 2)\n"
     ]
    }
   ],
   "source": [
    "print('shape of a1c is ',ALC.shape )\n",
    "print('shape of bun is ',BUN.shape )\n",
    "print('shape of ccp is ',CCP.shape )\n",
    "print('shape of crea is ',CREA.shape )\n",
    "print('shape of crp is ',CRP.shape )\n",
    "print('shape of esr is ',ESR.shape )\n",
    "print('shape of GLUC is ',GLUC.shape )\n",
    "print('shape of RHEUMATOID is ',RHEUMATOID.shape )\n",
    "print('shape of v_d is ',v_d.shape )\n",
    "print('shape of AGE is ',AGE.shape )\n"
   ]
  },
  {
   "cell_type": "markdown",
   "metadata": {},
   "source": [
    "#### Here I check that there are not missing values in the new features that have been created"
   ]
  },
  {
   "cell_type": "code",
   "execution_count": 213,
   "metadata": {},
   "outputs": [
    {
     "data": {
      "text/plain": [
       "SUBJID       False\n",
       "a1c_MEAN     False\n",
       "a1c_UNDER    False\n",
       "a1c_OVER     False\n",
       "dtype: bool"
      ]
     },
     "execution_count": 213,
     "metadata": {},
     "output_type": "execute_result"
    }
   ],
   "source": [
    "ALC.isnull().any() "
   ]
  },
  {
   "cell_type": "code",
   "execution_count": 214,
   "metadata": {},
   "outputs": [
    {
     "data": {
      "text/html": [
       "<div>\n",
       "<style>\n",
       "    .dataframe thead tr:only-child th {\n",
       "        text-align: right;\n",
       "    }\n",
       "\n",
       "    .dataframe thead th {\n",
       "        text-align: left;\n",
       "    }\n",
       "\n",
       "    .dataframe tbody tr th {\n",
       "        vertical-align: top;\n",
       "    }\n",
       "</style>\n",
       "<table border=\"1\" class=\"dataframe\">\n",
       "  <thead>\n",
       "    <tr style=\"text-align: right;\">\n",
       "      <th></th>\n",
       "      <th>SUBJID</th>\n",
       "      <th>a1c_MEAN</th>\n",
       "      <th>a1c_UNDER</th>\n",
       "      <th>a1c_OVER</th>\n",
       "    </tr>\n",
       "  </thead>\n",
       "  <tbody>\n",
       "    <tr>\n",
       "      <th>0</th>\n",
       "      <td>6.017795e+11</td>\n",
       "      <td>6.556250</td>\n",
       "      <td>0.0</td>\n",
       "      <td>0.812500</td>\n",
       "    </tr>\n",
       "    <tr>\n",
       "      <th>1</th>\n",
       "      <td>7.269826e+11</td>\n",
       "      <td>5.875000</td>\n",
       "      <td>0.0</td>\n",
       "      <td>0.000000</td>\n",
       "    </tr>\n",
       "    <tr>\n",
       "      <th>2</th>\n",
       "      <td>4.910247e+11</td>\n",
       "      <td>5.600000</td>\n",
       "      <td>0.0</td>\n",
       "      <td>0.000000</td>\n",
       "    </tr>\n",
       "    <tr>\n",
       "      <th>3</th>\n",
       "      <td>1.547974e+11</td>\n",
       "      <td>6.256522</td>\n",
       "      <td>0.0</td>\n",
       "      <td>0.826087</td>\n",
       "    </tr>\n",
       "    <tr>\n",
       "      <th>4</th>\n",
       "      <td>6.052887e+11</td>\n",
       "      <td>5.230000</td>\n",
       "      <td>0.0</td>\n",
       "      <td>0.000000</td>\n",
       "    </tr>\n",
       "  </tbody>\n",
       "</table>\n",
       "</div>"
      ],
      "text/plain": [
       "         SUBJID  a1c_MEAN  a1c_UNDER  a1c_OVER\n",
       "0  6.017795e+11  6.556250        0.0  0.812500\n",
       "1  7.269826e+11  5.875000        0.0  0.000000\n",
       "2  4.910247e+11  5.600000        0.0  0.000000\n",
       "3  1.547974e+11  6.256522        0.0  0.826087\n",
       "4  6.052887e+11  5.230000        0.0  0.000000"
      ]
     },
     "execution_count": 214,
     "metadata": {},
     "output_type": "execute_result"
    }
   ],
   "source": [
    "ALC.head()"
   ]
  },
  {
   "cell_type": "code",
   "execution_count": 215,
   "metadata": {},
   "outputs": [
    {
     "data": {
      "text/plain": [
       "SUBJID       False\n",
       "MEAN_bun     False\n",
       "UNDER_bun    False\n",
       "OVER_bun     False\n",
       "dtype: bool"
      ]
     },
     "execution_count": 215,
     "metadata": {},
     "output_type": "execute_result"
    }
   ],
   "source": [
    "BUN.isnull().any() "
   ]
  },
  {
   "cell_type": "code",
   "execution_count": 216,
   "metadata": {},
   "outputs": [
    {
     "data": {
      "text/html": [
       "<div>\n",
       "<style>\n",
       "    .dataframe thead tr:only-child th {\n",
       "        text-align: right;\n",
       "    }\n",
       "\n",
       "    .dataframe thead th {\n",
       "        text-align: left;\n",
       "    }\n",
       "\n",
       "    .dataframe tbody tr th {\n",
       "        vertical-align: top;\n",
       "    }\n",
       "</style>\n",
       "<table border=\"1\" class=\"dataframe\">\n",
       "  <thead>\n",
       "    <tr style=\"text-align: right;\">\n",
       "      <th></th>\n",
       "      <th>SUBJID</th>\n",
       "      <th>MEAN_bun</th>\n",
       "      <th>UNDER_bun</th>\n",
       "      <th>OVER_bun</th>\n",
       "    </tr>\n",
       "  </thead>\n",
       "  <tbody>\n",
       "    <tr>\n",
       "      <th>0</th>\n",
       "      <td>6.034450e+11</td>\n",
       "      <td>16.035714</td>\n",
       "      <td>0.0</td>\n",
       "      <td>0.142857</td>\n",
       "    </tr>\n",
       "    <tr>\n",
       "      <th>1</th>\n",
       "      <td>3.351483e+11</td>\n",
       "      <td>23.676471</td>\n",
       "      <td>0.0</td>\n",
       "      <td>0.676471</td>\n",
       "    </tr>\n",
       "    <tr>\n",
       "      <th>2</th>\n",
       "      <td>5.865521e+11</td>\n",
       "      <td>30.142857</td>\n",
       "      <td>0.0</td>\n",
       "      <td>1.000000</td>\n",
       "    </tr>\n",
       "    <tr>\n",
       "      <th>3</th>\n",
       "      <td>1.974538e+11</td>\n",
       "      <td>24.296296</td>\n",
       "      <td>0.0</td>\n",
       "      <td>0.555556</td>\n",
       "    </tr>\n",
       "    <tr>\n",
       "      <th>4</th>\n",
       "      <td>5.779308e+11</td>\n",
       "      <td>7.230769</td>\n",
       "      <td>0.5</td>\n",
       "      <td>0.000000</td>\n",
       "    </tr>\n",
       "  </tbody>\n",
       "</table>\n",
       "</div>"
      ],
      "text/plain": [
       "         SUBJID   MEAN_bun  UNDER_bun  OVER_bun\n",
       "0  6.034450e+11  16.035714        0.0  0.142857\n",
       "1  3.351483e+11  23.676471        0.0  0.676471\n",
       "2  5.865521e+11  30.142857        0.0  1.000000\n",
       "3  1.974538e+11  24.296296        0.0  0.555556\n",
       "4  5.779308e+11   7.230769        0.5  0.000000"
      ]
     },
     "execution_count": 216,
     "metadata": {},
     "output_type": "execute_result"
    }
   ],
   "source": [
    "BUN.head()"
   ]
  },
  {
   "cell_type": "code",
   "execution_count": 217,
   "metadata": {},
   "outputs": [
    {
     "data": {
      "text/plain": [
       "SUBJID       False\n",
       "ccp_MEAN     False\n",
       "ccp_UNDER    False\n",
       "ccp_OVER     False\n",
       "dtype: bool"
      ]
     },
     "execution_count": 217,
     "metadata": {},
     "output_type": "execute_result"
    }
   ],
   "source": [
    "CCP.isnull().any() "
   ]
  },
  {
   "cell_type": "code",
   "execution_count": 218,
   "metadata": {},
   "outputs": [
    {
     "data": {
      "text/plain": [
       "SUBJID        False\n",
       "MEAN_crea     False\n",
       "UNDER_crea    False\n",
       "OVER_crea     False\n",
       "dtype: bool"
      ]
     },
     "execution_count": 218,
     "metadata": {},
     "output_type": "execute_result"
    }
   ],
   "source": [
    "CREA.isnull().any() "
   ]
  },
  {
   "cell_type": "code",
   "execution_count": 219,
   "metadata": {},
   "outputs": [
    {
     "data": {
      "text/plain": [
       "SUBJID      False\n",
       "MEAN_CRP     True\n",
       "OVER_CRP     True\n",
       "dtype: bool"
      ]
     },
     "execution_count": 219,
     "metadata": {},
     "output_type": "execute_result"
    }
   ],
   "source": [
    "CRP.isnull().any() "
   ]
  },
  {
   "cell_type": "code",
   "execution_count": 220,
   "metadata": {},
   "outputs": [
    {
     "data": {
      "text/plain": [
       "SUBJID      False\n",
       "MEAN_ESR     True\n",
       "OVER_ESR     True\n",
       "dtype: bool"
      ]
     },
     "execution_count": 220,
     "metadata": {},
     "output_type": "execute_result"
    }
   ],
   "source": [
    "ESR.isnull().any() "
   ]
  },
  {
   "cell_type": "markdown",
   "metadata": {},
   "source": [
    "#### Note: CRP and ESR present missing values because those values miss in the inital datframes before any modificaton. "
   ]
  },
  {
   "cell_type": "code",
   "execution_count": 221,
   "metadata": {},
   "outputs": [
    {
     "data": {
      "text/plain": [
       "SUBJID        False\n",
       "MEAN_GLUC     False\n",
       "UNDER_GLUC    False\n",
       "OVER_GLUC     False\n",
       "dtype: bool"
      ]
     },
     "execution_count": 221,
     "metadata": {},
     "output_type": "execute_result"
    }
   ],
   "source": [
    "GLUC.isnull().any() "
   ]
  },
  {
   "cell_type": "code",
   "execution_count": 222,
   "metadata": {},
   "outputs": [
    {
     "data": {
      "text/plain": [
       "SUBJID              False\n",
       "MEAN_RHEUMATOID     False\n",
       "UNDER_RHEUMATOID    False\n",
       "OVER_RHEUMATOID     False\n",
       "dtype: bool"
      ]
     },
     "execution_count": 222,
     "metadata": {},
     "output_type": "execute_result"
    }
   ],
   "source": [
    "RHEUMATOID.isnull().any() "
   ]
  },
  {
   "cell_type": "code",
   "execution_count": 223,
   "metadata": {},
   "outputs": [
    {
     "data": {
      "text/plain": [
       "SUBJID       False\n",
       "v_d_MEAN     False\n",
       "v_d_UNDER    False\n",
       "v_d_OVER     False\n",
       "dtype: bool"
      ]
     },
     "execution_count": 223,
     "metadata": {},
     "output_type": "execute_result"
    }
   ],
   "source": [
    "v_d.isnull().any() "
   ]
  },
  {
   "cell_type": "code",
   "execution_count": 224,
   "metadata": {},
   "outputs": [
    {
     "data": {
      "text/plain": [
       "SUBJID    False\n",
       "Age       False\n",
       "dtype: bool"
      ]
     },
     "execution_count": 224,
     "metadata": {},
     "output_type": "execute_result"
    }
   ],
   "source": [
    "AGE.isnull().any() "
   ]
  },
  {
   "cell_type": "code",
   "execution_count": 225,
   "metadata": {},
   "outputs": [
    {
     "data": {
      "text/plain": [
       "HDL_Normal                False\n",
       "HDL_Optimal               False\n",
       "LDL_Optimal               False\n",
       "LDL_Low_Risk              False\n",
       "LDL_Normal_Risk           False\n",
       "LDL_High_Risk             False\n",
       "LDL_Very_High_Risk        False\n",
       "TRIGLYC_Optimal           False\n",
       "TRIGLYC_Low_Risk          False\n",
       "TRIGLYC_Normal_Risk       False\n",
       "TRIGLYC_High_Risk         False\n",
       "TRIGLYC_Very_High_Risk    False\n",
       "SUBJID                    False\n",
       "dtype: bool"
      ]
     },
     "execution_count": 225,
     "metadata": {},
     "output_type": "execute_result"
    }
   ],
   "source": [
    "LDL_HDL_TRY.isnull().any() "
   ]
  },
  {
   "cell_type": "markdown",
   "metadata": {},
   "source": [
    "## II.5. Phenotype 6 : Historical Prescriptions"
   ]
  },
  {
   "cell_type": "code",
   "execution_count": 423,
   "metadata": {},
   "outputs": [
    {
     "data": {
      "text/html": [
       "<div>\n",
       "<style>\n",
       "    .dataframe thead tr:only-child th {\n",
       "        text-align: right;\n",
       "    }\n",
       "\n",
       "    .dataframe thead th {\n",
       "        text-align: left;\n",
       "    }\n",
       "\n",
       "    .dataframe tbody tr th {\n",
       "        vertical-align: top;\n",
       "    }\n",
       "</style>\n",
       "<table border=\"1\" class=\"dataframe\">\n",
       "  <thead>\n",
       "    <tr style=\"text-align: right;\">\n",
       "      <th></th>\n",
       "      <th>SUBJID</th>\n",
       "      <th>ACITRETIN_FILLS</th>\n",
       "      <th>ACITRETIN_RX</th>\n",
       "      <th>ANTIRHEUMATIC_FILLS</th>\n",
       "      <th>ANTIRHEUMATIC_RX</th>\n",
       "      <th>CYCLOSPORINE_FILLS</th>\n",
       "      <th>CYCLOSPORINE_RX</th>\n",
       "      <th>METHOTREXATE_FILLS</th>\n",
       "      <th>METHOTREXATE_RX</th>\n",
       "      <th>USTEKINUMAB_FILLS</th>\n",
       "      <th>USTEKINUMAB_RX</th>\n",
       "    </tr>\n",
       "  </thead>\n",
       "  <tbody>\n",
       "    <tr>\n",
       "      <th>0</th>\n",
       "      <td>391736164572</td>\n",
       "      <td>NaN</td>\n",
       "      <td>0</td>\n",
       "      <td>NaN</td>\n",
       "      <td>0</td>\n",
       "      <td>NaN</td>\n",
       "      <td>0</td>\n",
       "      <td>NaN</td>\n",
       "      <td>0</td>\n",
       "      <td>NaN</td>\n",
       "      <td>0</td>\n",
       "    </tr>\n",
       "    <tr>\n",
       "      <th>1</th>\n",
       "      <td>686502736878</td>\n",
       "      <td>NaN</td>\n",
       "      <td>0</td>\n",
       "      <td>NaN</td>\n",
       "      <td>0</td>\n",
       "      <td>NaN</td>\n",
       "      <td>0</td>\n",
       "      <td>NaN</td>\n",
       "      <td>0</td>\n",
       "      <td>NaN</td>\n",
       "      <td>0</td>\n",
       "    </tr>\n",
       "    <tr>\n",
       "      <th>2</th>\n",
       "      <td>568603316745</td>\n",
       "      <td>NaN</td>\n",
       "      <td>0</td>\n",
       "      <td>NaN</td>\n",
       "      <td>0</td>\n",
       "      <td>NaN</td>\n",
       "      <td>0</td>\n",
       "      <td>NaN</td>\n",
       "      <td>0</td>\n",
       "      <td>NaN</td>\n",
       "      <td>0</td>\n",
       "    </tr>\n",
       "    <tr>\n",
       "      <th>3</th>\n",
       "      <td>995491060877</td>\n",
       "      <td>NaN</td>\n",
       "      <td>0</td>\n",
       "      <td>NaN</td>\n",
       "      <td>0</td>\n",
       "      <td>NaN</td>\n",
       "      <td>0</td>\n",
       "      <td>NaN</td>\n",
       "      <td>0</td>\n",
       "      <td>NaN</td>\n",
       "      <td>0</td>\n",
       "    </tr>\n",
       "    <tr>\n",
       "      <th>4</th>\n",
       "      <td>218955940208</td>\n",
       "      <td>NaN</td>\n",
       "      <td>0</td>\n",
       "      <td>NaN</td>\n",
       "      <td>0</td>\n",
       "      <td>NaN</td>\n",
       "      <td>0</td>\n",
       "      <td>NaN</td>\n",
       "      <td>0</td>\n",
       "      <td>NaN</td>\n",
       "      <td>0</td>\n",
       "    </tr>\n",
       "  </tbody>\n",
       "</table>\n",
       "</div>"
      ],
      "text/plain": [
       "         SUBJID  ACITRETIN_FILLS  ACITRETIN_RX  ANTIRHEUMATIC_FILLS  \\\n",
       "0  391736164572              NaN             0                  NaN   \n",
       "1  686502736878              NaN             0                  NaN   \n",
       "2  568603316745              NaN             0                  NaN   \n",
       "3  995491060877              NaN             0                  NaN   \n",
       "4  218955940208              NaN             0                  NaN   \n",
       "\n",
       "   ANTIRHEUMATIC_RX  CYCLOSPORINE_FILLS  CYCLOSPORINE_RX  METHOTREXATE_FILLS  \\\n",
       "0                 0                 NaN                0                 NaN   \n",
       "1                 0                 NaN                0                 NaN   \n",
       "2                 0                 NaN                0                 NaN   \n",
       "3                 0                 NaN                0                 NaN   \n",
       "4                 0                 NaN                0                 NaN   \n",
       "\n",
       "   METHOTREXATE_RX  USTEKINUMAB_FILLS  USTEKINUMAB_RX  \n",
       "0                0                NaN               0  \n",
       "1                0                NaN               0  \n",
       "2                0                NaN               0  \n",
       "3                0                NaN               0  \n",
       "4                0                NaN               0  "
      ]
     },
     "execution_count": 423,
     "metadata": {},
     "output_type": "execute_result"
    }
   ],
   "source": [
    "# data importation:\n",
    "df6    = pd.read_csv('/mnt/numberFive/capstone17/phenotypeData/C10004_PHENO6.csv')\n",
    "df6_V2 = pd.read_csv('/mnt/numberFive/capstone17/phenotypeData/C10004_PHENO6_V2.csv')\n",
    "df6.head()\n",
    "# df6.columns.values"
   ]
  },
  {
   "cell_type": "markdown",
   "metadata": {},
   "source": [
    "#### Missing Values in df6"
   ]
  },
  {
   "cell_type": "code",
   "execution_count": 227,
   "metadata": {},
   "outputs": [
    {
     "data": {
      "text/html": [
       "<div>\n",
       "<style>\n",
       "    .dataframe thead tr:only-child th {\n",
       "        text-align: right;\n",
       "    }\n",
       "\n",
       "    .dataframe thead th {\n",
       "        text-align: left;\n",
       "    }\n",
       "\n",
       "    .dataframe tbody tr th {\n",
       "        vertical-align: top;\n",
       "    }\n",
       "</style>\n",
       "<table border=\"1\" class=\"dataframe\">\n",
       "  <thead>\n",
       "    <tr style=\"text-align: right;\">\n",
       "      <th></th>\n",
       "      <th>Missing</th>\n",
       "      <th>Non Missing</th>\n",
       "    </tr>\n",
       "  </thead>\n",
       "  <tbody>\n",
       "    <tr>\n",
       "      <th>ACITRETIN_FILLS</th>\n",
       "      <td>150</td>\n",
       "      <td>86299</td>\n",
       "    </tr>\n",
       "    <tr>\n",
       "      <th>ACITRETIN_RX</th>\n",
       "      <td>86449</td>\n",
       "      <td>0</td>\n",
       "    </tr>\n",
       "    <tr>\n",
       "      <th>ANTIRHEUMATIC_FILLS</th>\n",
       "      <td>321</td>\n",
       "      <td>86128</td>\n",
       "    </tr>\n",
       "    <tr>\n",
       "      <th>ANTIRHEUMATIC_RX</th>\n",
       "      <td>86449</td>\n",
       "      <td>0</td>\n",
       "    </tr>\n",
       "    <tr>\n",
       "      <th>CYCLOSPORINE_FILLS</th>\n",
       "      <td>1296</td>\n",
       "      <td>85153</td>\n",
       "    </tr>\n",
       "    <tr>\n",
       "      <th>CYCLOSPORINE_RX</th>\n",
       "      <td>86449</td>\n",
       "      <td>0</td>\n",
       "    </tr>\n",
       "    <tr>\n",
       "      <th>METHOTREXATE_FILLS</th>\n",
       "      <td>732</td>\n",
       "      <td>85717</td>\n",
       "    </tr>\n",
       "    <tr>\n",
       "      <th>METHOTREXATE_RX</th>\n",
       "      <td>86449</td>\n",
       "      <td>0</td>\n",
       "    </tr>\n",
       "    <tr>\n",
       "      <th>USTEKINUMAB_FILLS</th>\n",
       "      <td>7</td>\n",
       "      <td>86442</td>\n",
       "    </tr>\n",
       "    <tr>\n",
       "      <th>USTEKINUMAB_RX</th>\n",
       "      <td>86449</td>\n",
       "      <td>0</td>\n",
       "    </tr>\n",
       "  </tbody>\n",
       "</table>\n",
       "</div>"
      ],
      "text/plain": [
       "                     Missing  Non Missing\n",
       "ACITRETIN_FILLS          150        86299\n",
       "ACITRETIN_RX           86449            0\n",
       "ANTIRHEUMATIC_FILLS      321        86128\n",
       "ANTIRHEUMATIC_RX       86449            0\n",
       "CYCLOSPORINE_FILLS      1296        85153\n",
       "CYCLOSPORINE_RX        86449            0\n",
       "METHOTREXATE_FILLS       732        85717\n",
       "METHOTREXATE_RX        86449            0\n",
       "USTEKINUMAB_FILLS          7        86442\n",
       "USTEKINUMAB_RX         86449            0"
      ]
     },
     "execution_count": 227,
     "metadata": {},
     "output_type": "execute_result"
    }
   ],
   "source": [
    "data = np.array([df6.ACITRETIN_FILLS.isnull().value_counts()[0],df6.shape[0] - df6.ACITRETIN_FILLS.isnull().value_counts()[0],\n",
    "                 df6.ACITRETIN_RX.isnull().value_counts()[0],df6.shape[0] - df6.ACITRETIN_RX.isnull().value_counts()[0],\n",
    "                 df6.ANTIRHEUMATIC_FILLS.isnull().value_counts()[0], df6.shape[0] - df6.ANTIRHEUMATIC_FILLS.isnull().value_counts()[0],\n",
    "                 df6.ANTIRHEUMATIC_RX.isnull().value_counts()[0],df6.shape[0] - df6.ANTIRHEUMATIC_RX.isnull().value_counts()[0],\n",
    "                 df6.CYCLOSPORINE_FILLS.isnull().value_counts()[0],df6.shape[0] - df6.CYCLOSPORINE_FILLS.isnull().value_counts()[0],\n",
    "                 df6.CYCLOSPORINE_RX.isnull().value_counts()[0],df6.shape[0] - df6.CYCLOSPORINE_RX.isnull().value_counts()[0],\n",
    "                 df6.METHOTREXATE_FILLS.isnull().value_counts()[0],df6.shape[0] - df6.METHOTREXATE_FILLS.isnull().value_counts()[0],\n",
    "                 df6.METHOTREXATE_RX.isnull().value_counts()[0],df6.shape[0] - df6.METHOTREXATE_RX.isnull().value_counts()[0],\n",
    "                 df6.USTEKINUMAB_FILLS.isnull().value_counts()[0],df6.shape[0] - df6.USTEKINUMAB_FILLS.isnull().value_counts()[0],\n",
    "                 df6.USTEKINUMAB_RX.isnull().value_counts()[0],df6.shape[0] - df6.USTEKINUMAB_RX.isnull().value_counts()[0]]).reshape(10,2)\n",
    "\n",
    "df6_Missing_Values_Summary = pd.DataFrame(data, columns = ['Missing', 'Non Missing'],\n",
    "                                                index   = ['ACITRETIN_FILLS', 'ACITRETIN_RX', 'ANTIRHEUMATIC_FILLS',\n",
    "                                                           'ANTIRHEUMATIC_RX', 'CYCLOSPORINE_FILLS', 'CYCLOSPORINE_RX',\n",
    "                                                           'METHOTREXATE_FILLS', 'METHOTREXATE_RX', 'USTEKINUMAB_FILLS',\n",
    "                                                           'USTEKINUMAB_RX'])\n",
    "df6_Missing_Values_Summary"
   ]
  },
  {
   "cell_type": "markdown",
   "metadata": {},
   "source": [
    "## II.6. Phenotype 6 Version 2 : Historical Prescriptions "
   ]
  },
  {
   "cell_type": "code",
   "execution_count": 228,
   "metadata": {},
   "outputs": [
    {
     "data": {
      "text/html": [
       "<div>\n",
       "<style>\n",
       "    .dataframe thead tr:only-child th {\n",
       "        text-align: right;\n",
       "    }\n",
       "\n",
       "    .dataframe thead th {\n",
       "        text-align: left;\n",
       "    }\n",
       "\n",
       "    .dataframe tbody tr th {\n",
       "        vertical-align: top;\n",
       "    }\n",
       "</style>\n",
       "<table border=\"1\" class=\"dataframe\">\n",
       "  <thead>\n",
       "    <tr style=\"text-align: right;\">\n",
       "      <th></th>\n",
       "      <th>SUBJID</th>\n",
       "      <th>ADALIMUMAB_RX</th>\n",
       "      <th>LEFLUNOMIDE_FILLS</th>\n",
       "      <th>METHOTREXATE_FILLS</th>\n",
       "      <th>ADALIMUMAB_FILLS</th>\n",
       "      <th>USTEKINUMAB_FILLS</th>\n",
       "      <th>CYCLOSPORINE_FILLS</th>\n",
       "      <th>ETANERCEPT_FILLS</th>\n",
       "      <th>INFLIXIMAB_FILLS</th>\n",
       "      <th>ETANERCEPT_RX</th>\n",
       "      <th>ACITRETIN_RX</th>\n",
       "      <th>CYCLOSPORINE_RX</th>\n",
       "      <th>ANTIRHEUMATIC_RX</th>\n",
       "      <th>ANTIRHEUMATIC_FILLS</th>\n",
       "      <th>LEFLUNOMIDE_RX</th>\n",
       "      <th>USTEKINUMAB_RX</th>\n",
       "      <th>METHOTREXATE_RX</th>\n",
       "      <th>INFLIXIMAB_RX</th>\n",
       "      <th>ACITRETIN_FILLS</th>\n",
       "    </tr>\n",
       "  </thead>\n",
       "  <tbody>\n",
       "    <tr>\n",
       "      <th>0</th>\n",
       "      <td>495972648779</td>\n",
       "      <td>0</td>\n",
       "      <td>NaN</td>\n",
       "      <td>NaN</td>\n",
       "      <td>NaN</td>\n",
       "      <td>NaN</td>\n",
       "      <td>NaN</td>\n",
       "      <td>NaN</td>\n",
       "      <td>NaN</td>\n",
       "      <td>0</td>\n",
       "      <td>0</td>\n",
       "      <td>0</td>\n",
       "      <td>0</td>\n",
       "      <td>NaN</td>\n",
       "      <td>0</td>\n",
       "      <td>0</td>\n",
       "      <td>0</td>\n",
       "      <td>0</td>\n",
       "      <td>NaN</td>\n",
       "    </tr>\n",
       "    <tr>\n",
       "      <th>1</th>\n",
       "      <td>125993075227</td>\n",
       "      <td>0</td>\n",
       "      <td>NaN</td>\n",
       "      <td>NaN</td>\n",
       "      <td>NaN</td>\n",
       "      <td>NaN</td>\n",
       "      <td>NaN</td>\n",
       "      <td>NaN</td>\n",
       "      <td>NaN</td>\n",
       "      <td>0</td>\n",
       "      <td>0</td>\n",
       "      <td>0</td>\n",
       "      <td>0</td>\n",
       "      <td>NaN</td>\n",
       "      <td>0</td>\n",
       "      <td>0</td>\n",
       "      <td>0</td>\n",
       "      <td>0</td>\n",
       "      <td>NaN</td>\n",
       "    </tr>\n",
       "    <tr>\n",
       "      <th>2</th>\n",
       "      <td>346004522644</td>\n",
       "      <td>0</td>\n",
       "      <td>NaN</td>\n",
       "      <td>NaN</td>\n",
       "      <td>NaN</td>\n",
       "      <td>NaN</td>\n",
       "      <td>NaN</td>\n",
       "      <td>NaN</td>\n",
       "      <td>NaN</td>\n",
       "      <td>0</td>\n",
       "      <td>1</td>\n",
       "      <td>0</td>\n",
       "      <td>0</td>\n",
       "      <td>NaN</td>\n",
       "      <td>0</td>\n",
       "      <td>0</td>\n",
       "      <td>0</td>\n",
       "      <td>0</td>\n",
       "      <td>16.0</td>\n",
       "    </tr>\n",
       "    <tr>\n",
       "      <th>3</th>\n",
       "      <td>845132567071</td>\n",
       "      <td>0</td>\n",
       "      <td>NaN</td>\n",
       "      <td>NaN</td>\n",
       "      <td>NaN</td>\n",
       "      <td>NaN</td>\n",
       "      <td>NaN</td>\n",
       "      <td>NaN</td>\n",
       "      <td>NaN</td>\n",
       "      <td>0</td>\n",
       "      <td>0</td>\n",
       "      <td>0</td>\n",
       "      <td>0</td>\n",
       "      <td>NaN</td>\n",
       "      <td>0</td>\n",
       "      <td>0</td>\n",
       "      <td>0</td>\n",
       "      <td>0</td>\n",
       "      <td>NaN</td>\n",
       "    </tr>\n",
       "    <tr>\n",
       "      <th>4</th>\n",
       "      <td>830433545512</td>\n",
       "      <td>0</td>\n",
       "      <td>NaN</td>\n",
       "      <td>NaN</td>\n",
       "      <td>NaN</td>\n",
       "      <td>NaN</td>\n",
       "      <td>NaN</td>\n",
       "      <td>NaN</td>\n",
       "      <td>NaN</td>\n",
       "      <td>0</td>\n",
       "      <td>0</td>\n",
       "      <td>0</td>\n",
       "      <td>0</td>\n",
       "      <td>NaN</td>\n",
       "      <td>0</td>\n",
       "      <td>0</td>\n",
       "      <td>0</td>\n",
       "      <td>0</td>\n",
       "      <td>NaN</td>\n",
       "    </tr>\n",
       "  </tbody>\n",
       "</table>\n",
       "</div>"
      ],
      "text/plain": [
       "         SUBJID  ADALIMUMAB_RX  LEFLUNOMIDE_FILLS  METHOTREXATE_FILLS  \\\n",
       "0  495972648779              0                NaN                 NaN   \n",
       "1  125993075227              0                NaN                 NaN   \n",
       "2  346004522644              0                NaN                 NaN   \n",
       "3  845132567071              0                NaN                 NaN   \n",
       "4  830433545512              0                NaN                 NaN   \n",
       "\n",
       "   ADALIMUMAB_FILLS  USTEKINUMAB_FILLS  CYCLOSPORINE_FILLS  ETANERCEPT_FILLS  \\\n",
       "0               NaN                NaN                 NaN               NaN   \n",
       "1               NaN                NaN                 NaN               NaN   \n",
       "2               NaN                NaN                 NaN               NaN   \n",
       "3               NaN                NaN                 NaN               NaN   \n",
       "4               NaN                NaN                 NaN               NaN   \n",
       "\n",
       "   INFLIXIMAB_FILLS  ETANERCEPT_RX  ACITRETIN_RX  CYCLOSPORINE_RX  \\\n",
       "0               NaN              0             0                0   \n",
       "1               NaN              0             0                0   \n",
       "2               NaN              0             1                0   \n",
       "3               NaN              0             0                0   \n",
       "4               NaN              0             0                0   \n",
       "\n",
       "   ANTIRHEUMATIC_RX  ANTIRHEUMATIC_FILLS  LEFLUNOMIDE_RX  USTEKINUMAB_RX  \\\n",
       "0                 0                  NaN               0               0   \n",
       "1                 0                  NaN               0               0   \n",
       "2                 0                  NaN               0               0   \n",
       "3                 0                  NaN               0               0   \n",
       "4                 0                  NaN               0               0   \n",
       "\n",
       "   METHOTREXATE_RX  INFLIXIMAB_RX  ACITRETIN_FILLS  \n",
       "0                0              0              NaN  \n",
       "1                0              0              NaN  \n",
       "2                0              0             16.0  \n",
       "3                0              0              NaN  \n",
       "4                0              0              NaN  "
      ]
     },
     "execution_count": 228,
     "metadata": {},
     "output_type": "execute_result"
    }
   ],
   "source": [
    "df6_V2.head()"
   ]
  },
  {
   "cell_type": "markdown",
   "metadata": {},
   "source": [
    "#### Missing Values in df6_V2"
   ]
  },
  {
   "cell_type": "code",
   "execution_count": 229,
   "metadata": {},
   "outputs": [
    {
     "data": {
      "text/html": [
       "<div>\n",
       "<style>\n",
       "    .dataframe thead tr:only-child th {\n",
       "        text-align: right;\n",
       "    }\n",
       "\n",
       "    .dataframe thead th {\n",
       "        text-align: left;\n",
       "    }\n",
       "\n",
       "    .dataframe tbody tr th {\n",
       "        vertical-align: top;\n",
       "    }\n",
       "</style>\n",
       "<table border=\"1\" class=\"dataframe\">\n",
       "  <thead>\n",
       "    <tr style=\"text-align: right;\">\n",
       "      <th></th>\n",
       "      <th>Missing</th>\n",
       "      <th>Non Missing</th>\n",
       "    </tr>\n",
       "  </thead>\n",
       "  <tbody>\n",
       "    <tr>\n",
       "      <th>ADALIMUMAB_RX</th>\n",
       "      <td>86449</td>\n",
       "      <td>0</td>\n",
       "    </tr>\n",
       "    <tr>\n",
       "      <th>LEFLUNOMIDE_FILLS</th>\n",
       "      <td>106</td>\n",
       "      <td>86343</td>\n",
       "    </tr>\n",
       "    <tr>\n",
       "      <th>METHOTREXATE_FILLS</th>\n",
       "      <td>732</td>\n",
       "      <td>85717</td>\n",
       "    </tr>\n",
       "    <tr>\n",
       "      <th>ADALIMUMAB_FILLS</th>\n",
       "      <td>136</td>\n",
       "      <td>86313</td>\n",
       "    </tr>\n",
       "    <tr>\n",
       "      <th>USTEKINUMAB_FILLS</th>\n",
       "      <td>7</td>\n",
       "      <td>86442</td>\n",
       "    </tr>\n",
       "    <tr>\n",
       "      <th>CYCLOSPORINE_FILLS</th>\n",
       "      <td>1296</td>\n",
       "      <td>85153</td>\n",
       "    </tr>\n",
       "    <tr>\n",
       "      <th>ETANERCEPT_FILLS</th>\n",
       "      <td>185</td>\n",
       "      <td>86264</td>\n",
       "    </tr>\n",
       "    <tr>\n",
       "      <th>INFLIXIMAB_FILLS</th>\n",
       "      <td>13</td>\n",
       "      <td>86436</td>\n",
       "    </tr>\n",
       "    <tr>\n",
       "      <th>ETANERCEPT_RX</th>\n",
       "      <td>86449</td>\n",
       "      <td>0</td>\n",
       "    </tr>\n",
       "    <tr>\n",
       "      <th>ACITRETIN_RX</th>\n",
       "      <td>86449</td>\n",
       "      <td>0</td>\n",
       "    </tr>\n",
       "    <tr>\n",
       "      <th>CYCLOSPORINE_RX</th>\n",
       "      <td>86449</td>\n",
       "      <td>0</td>\n",
       "    </tr>\n",
       "    <tr>\n",
       "      <th>ANTIRHEUMATIC_RX</th>\n",
       "      <td>86449</td>\n",
       "      <td>0</td>\n",
       "    </tr>\n",
       "    <tr>\n",
       "      <th>ANTIRHEUMATIC_FILLS</th>\n",
       "      <td>26</td>\n",
       "      <td>86423</td>\n",
       "    </tr>\n",
       "    <tr>\n",
       "      <th>LEFLUNOMIDE_RX</th>\n",
       "      <td>86449</td>\n",
       "      <td>0</td>\n",
       "    </tr>\n",
       "    <tr>\n",
       "      <th>USTEKINUMAB_RX</th>\n",
       "      <td>86449</td>\n",
       "      <td>0</td>\n",
       "    </tr>\n",
       "    <tr>\n",
       "      <th>METHOTREXATE_RX</th>\n",
       "      <td>86449</td>\n",
       "      <td>0</td>\n",
       "    </tr>\n",
       "    <tr>\n",
       "      <th>INFLIXIMAB_RX</th>\n",
       "      <td>86449</td>\n",
       "      <td>0</td>\n",
       "    </tr>\n",
       "    <tr>\n",
       "      <th>ACITRETIN_FILLS</th>\n",
       "      <td>150</td>\n",
       "      <td>86299</td>\n",
       "    </tr>\n",
       "  </tbody>\n",
       "</table>\n",
       "</div>"
      ],
      "text/plain": [
       "                     Missing  Non Missing\n",
       "ADALIMUMAB_RX          86449            0\n",
       "LEFLUNOMIDE_FILLS        106        86343\n",
       "METHOTREXATE_FILLS       732        85717\n",
       "ADALIMUMAB_FILLS         136        86313\n",
       "USTEKINUMAB_FILLS          7        86442\n",
       "CYCLOSPORINE_FILLS      1296        85153\n",
       "ETANERCEPT_FILLS         185        86264\n",
       "INFLIXIMAB_FILLS          13        86436\n",
       "ETANERCEPT_RX          86449            0\n",
       "ACITRETIN_RX           86449            0\n",
       "CYCLOSPORINE_RX        86449            0\n",
       "ANTIRHEUMATIC_RX       86449            0\n",
       "ANTIRHEUMATIC_FILLS       26        86423\n",
       "LEFLUNOMIDE_RX         86449            0\n",
       "USTEKINUMAB_RX         86449            0\n",
       "METHOTREXATE_RX        86449            0\n",
       "INFLIXIMAB_RX          86449            0\n",
       "ACITRETIN_FILLS          150        86299"
      ]
     },
     "execution_count": 229,
     "metadata": {},
     "output_type": "execute_result"
    }
   ],
   "source": [
    "data = np.array([df6_V2.ADALIMUMAB_RX.isnull().value_counts()[0],df6_V2.shape[0] - df6_V2.ADALIMUMAB_RX.isnull().value_counts()[0],\n",
    "                 df6_V2.LEFLUNOMIDE_FILLS.isnull().value_counts()[0],df6_V2.shape[0] - df6_V2.LEFLUNOMIDE_FILLS.isnull().value_counts()[0],\n",
    "                 df6_V2.METHOTREXATE_FILLS.isnull().value_counts()[0], df6_V2.shape[0] - df6_V2.METHOTREXATE_FILLS.isnull().value_counts()[0],\n",
    "                 df6_V2.ADALIMUMAB_FILLS.isnull().value_counts()[0],df6_V2.shape[0] - df6_V2.ADALIMUMAB_FILLS.isnull().value_counts()[0],\n",
    "                 df6_V2.USTEKINUMAB_FILLS.isnull().value_counts()[0],df6_V2.shape[0] - df6_V2.USTEKINUMAB_FILLS.isnull().value_counts()[0],\n",
    "                 df6_V2.CYCLOSPORINE_FILLS.isnull().value_counts()[0],df6_V2.shape[0] - df6_V2.CYCLOSPORINE_FILLS.isnull().value_counts()[0],\n",
    "                 df6_V2.ETANERCEPT_FILLS.isnull().value_counts()[0],df6_V2.shape[0] - df6_V2.ETANERCEPT_FILLS.isnull().value_counts()[0],\n",
    "                 df6_V2.INFLIXIMAB_FILLS.isnull().value_counts()[0],df6_V2.shape[0] - df6_V2.INFLIXIMAB_FILLS.isnull().value_counts()[0],\n",
    "                 df6_V2.ETANERCEPT_RX.isnull().value_counts()[0],df6_V2.shape[0] - df6_V2.ETANERCEPT_RX.isnull().value_counts()[0],\n",
    "                 df6_V2.ACITRETIN_RX.isnull().value_counts()[0],df6_V2.shape[0] - df6_V2.ACITRETIN_RX.isnull().value_counts()[0],\n",
    "                 df6_V2.CYCLOSPORINE_RX.isnull().value_counts()[0],df6_V2.shape[0] - df6_V2.CYCLOSPORINE_RX.isnull().value_counts()[0],\n",
    "                 df6_V2.ANTIRHEUMATIC_RX.isnull().value_counts()[0],df6_V2.shape[0] - df6_V2.ANTIRHEUMATIC_RX.isnull().value_counts()[0],\n",
    "                 df6_V2.ANTIRHEUMATIC_FILLS.isnull().value_counts()[0],df6_V2.shape[0] - df6_V2.ANTIRHEUMATIC_FILLS.isnull().value_counts()[0],\n",
    "                 df6_V2.LEFLUNOMIDE_RX.isnull().value_counts()[0],df6_V2.shape[0] - df6_V2.LEFLUNOMIDE_RX.isnull().value_counts()[0],\n",
    "                 df6_V2.USTEKINUMAB_RX.isnull().value_counts()[0],df6_V2.shape[0] - df6_V2.USTEKINUMAB_RX.isnull().value_counts()[0],\n",
    "                 df6_V2.METHOTREXATE_RX.isnull().value_counts()[0],df6_V2.shape[0] - df6_V2.METHOTREXATE_RX.isnull().value_counts()[0],\n",
    "                 df6_V2.INFLIXIMAB_RX.isnull().value_counts()[0],df6_V2.shape[0] - df6_V2.INFLIXIMAB_RX.isnull().value_counts()[0],\n",
    "                 df6_V2.ACITRETIN_FILLS.isnull().value_counts()[0],df6_V2.shape[0] - df6_V2.ACITRETIN_FILLS.isnull().value_counts()[0]]).reshape(18,2)\n",
    "\n",
    "df6_V2_Missing_Values_Summary = pd.DataFrame(data, columns = ['Missing', 'Non Missing'],\n",
    "                                                index   = ['ADALIMUMAB_RX', 'LEFLUNOMIDE_FILLS', 'METHOTREXATE_FILLS',\n",
    "                                                           'ADALIMUMAB_FILLS', 'USTEKINUMAB_FILLS', 'CYCLOSPORINE_FILLS',\n",
    "                                                           'ETANERCEPT_FILLS', 'INFLIXIMAB_FILLS', 'ETANERCEPT_RX',\n",
    "                                                           'ACITRETIN_RX','CYCLOSPORINE_RX','ANTIRHEUMATIC_RX',\n",
    "                                                          'ANTIRHEUMATIC_FILLS','LEFLUNOMIDE_RX','USTEKINUMAB_RX',\n",
    "                                                           'METHOTREXATE_RX','INFLIXIMAB_RX','ACITRETIN_FILLS'])\n",
    "df6_V2_Missing_Values_Summary"
   ]
  },
  {
   "cell_type": "markdown",
   "metadata": {},
   "source": [
    "#### Notes:\n",
    "- df6 and df6_V2 present the same data, however the second version df6 is more accurate and complete according to the data provider. We will then use only df6_V2.\n",
    "- As we can see, there are columns which contain only missing values. Those columns will be simply deleted. The other columns present a relatively smaller number of missing values. Since those columns correspnd to the number of presciptions of certain diseases given by doctors to patients, we assume that replacing the NaN's by 0 is an acceptable assumption."
   ]
  },
  {
   "cell_type": "code",
   "execution_count": 230,
   "metadata": {},
   "outputs": [
    {
     "data": {
      "text/html": [
       "<div>\n",
       "<style>\n",
       "    .dataframe thead tr:only-child th {\n",
       "        text-align: right;\n",
       "    }\n",
       "\n",
       "    .dataframe thead th {\n",
       "        text-align: left;\n",
       "    }\n",
       "\n",
       "    .dataframe tbody tr th {\n",
       "        vertical-align: top;\n",
       "    }\n",
       "</style>\n",
       "<table border=\"1\" class=\"dataframe\">\n",
       "  <thead>\n",
       "    <tr style=\"text-align: right;\">\n",
       "      <th></th>\n",
       "      <th>SUBJID</th>\n",
       "      <th>LEFLUNOMIDE_FILLS</th>\n",
       "      <th>METHOTREXATE_FILLS</th>\n",
       "      <th>ADALIMUMAB_FILLS</th>\n",
       "      <th>USTEKINUMAB_FILLS</th>\n",
       "      <th>CYCLOSPORINE_FILLS</th>\n",
       "      <th>ETANERCEPT_FILLS</th>\n",
       "      <th>INFLIXIMAB_FILLS</th>\n",
       "      <th>ANTIRHEUMATIC_FILLS</th>\n",
       "      <th>ACITRETIN_FILLS</th>\n",
       "    </tr>\n",
       "  </thead>\n",
       "  <tbody>\n",
       "    <tr>\n",
       "      <th>0</th>\n",
       "      <td>495972648779</td>\n",
       "      <td>0.0</td>\n",
       "      <td>0.0</td>\n",
       "      <td>0.0</td>\n",
       "      <td>0.0</td>\n",
       "      <td>0.0</td>\n",
       "      <td>0.0</td>\n",
       "      <td>0.0</td>\n",
       "      <td>0.0</td>\n",
       "      <td>0.0</td>\n",
       "    </tr>\n",
       "    <tr>\n",
       "      <th>1</th>\n",
       "      <td>125993075227</td>\n",
       "      <td>0.0</td>\n",
       "      <td>0.0</td>\n",
       "      <td>0.0</td>\n",
       "      <td>0.0</td>\n",
       "      <td>0.0</td>\n",
       "      <td>0.0</td>\n",
       "      <td>0.0</td>\n",
       "      <td>0.0</td>\n",
       "      <td>0.0</td>\n",
       "    </tr>\n",
       "    <tr>\n",
       "      <th>2</th>\n",
       "      <td>346004522644</td>\n",
       "      <td>0.0</td>\n",
       "      <td>0.0</td>\n",
       "      <td>0.0</td>\n",
       "      <td>0.0</td>\n",
       "      <td>0.0</td>\n",
       "      <td>0.0</td>\n",
       "      <td>0.0</td>\n",
       "      <td>0.0</td>\n",
       "      <td>16.0</td>\n",
       "    </tr>\n",
       "    <tr>\n",
       "      <th>3</th>\n",
       "      <td>845132567071</td>\n",
       "      <td>0.0</td>\n",
       "      <td>0.0</td>\n",
       "      <td>0.0</td>\n",
       "      <td>0.0</td>\n",
       "      <td>0.0</td>\n",
       "      <td>0.0</td>\n",
       "      <td>0.0</td>\n",
       "      <td>0.0</td>\n",
       "      <td>0.0</td>\n",
       "    </tr>\n",
       "    <tr>\n",
       "      <th>4</th>\n",
       "      <td>830433545512</td>\n",
       "      <td>0.0</td>\n",
       "      <td>0.0</td>\n",
       "      <td>0.0</td>\n",
       "      <td>0.0</td>\n",
       "      <td>0.0</td>\n",
       "      <td>0.0</td>\n",
       "      <td>0.0</td>\n",
       "      <td>0.0</td>\n",
       "      <td>0.0</td>\n",
       "    </tr>\n",
       "  </tbody>\n",
       "</table>\n",
       "</div>"
      ],
      "text/plain": [
       "         SUBJID  LEFLUNOMIDE_FILLS  METHOTREXATE_FILLS  ADALIMUMAB_FILLS  \\\n",
       "0  495972648779                0.0                 0.0               0.0   \n",
       "1  125993075227                0.0                 0.0               0.0   \n",
       "2  346004522644                0.0                 0.0               0.0   \n",
       "3  845132567071                0.0                 0.0               0.0   \n",
       "4  830433545512                0.0                 0.0               0.0   \n",
       "\n",
       "   USTEKINUMAB_FILLS  CYCLOSPORINE_FILLS  ETANERCEPT_FILLS  INFLIXIMAB_FILLS  \\\n",
       "0                0.0                 0.0               0.0               0.0   \n",
       "1                0.0                 0.0               0.0               0.0   \n",
       "2                0.0                 0.0               0.0               0.0   \n",
       "3                0.0                 0.0               0.0               0.0   \n",
       "4                0.0                 0.0               0.0               0.0   \n",
       "\n",
       "   ANTIRHEUMATIC_FILLS  ACITRETIN_FILLS  \n",
       "0                  0.0              0.0  \n",
       "1                  0.0              0.0  \n",
       "2                  0.0             16.0  \n",
       "3                  0.0              0.0  \n",
       "4                  0.0              0.0  "
      ]
     },
     "execution_count": 230,
     "metadata": {},
     "output_type": "execute_result"
    }
   ],
   "source": [
    "# I delete all the columns that contain only missing values\n",
    "df6_V2_edited = df6_V2.drop(df6_V2.columns[[1,9,10,11,12,14,15,16,17]], axis=1) \n",
    "# I replace all the missing values by 0 \n",
    "df6_V2_edited.fillna(0, inplace=True)\n",
    "df6_V2_edited.head()"
   ]
  },
  {
   "cell_type": "markdown",
   "metadata": {},
   "source": [
    "## II.7. Phenotype 7 : Other diseases"
   ]
  },
  {
   "cell_type": "code",
   "execution_count": 469,
   "metadata": {
    "scrolled": true
   },
   "outputs": [
    {
     "data": {
      "text/html": [
       "<div>\n",
       "<style>\n",
       "    .dataframe thead tr:only-child th {\n",
       "        text-align: right;\n",
       "    }\n",
       "\n",
       "    .dataframe thead th {\n",
       "        text-align: left;\n",
       "    }\n",
       "\n",
       "    .dataframe tbody tr th {\n",
       "        vertical-align: top;\n",
       "    }\n",
       "</style>\n",
       "<table border=\"1\" class=\"dataframe\">\n",
       "  <thead>\n",
       "    <tr style=\"text-align: right;\">\n",
       "      <th></th>\n",
       "      <th>SUBJID</th>\n",
       "      <th>ALOPECIA</th>\n",
       "      <th>CAD</th>\n",
       "      <th>CROHN</th>\n",
       "      <th>DIABETES</th>\n",
       "      <th>DYSLIPIDEMIA</th>\n",
       "      <th>HYPERTENSION</th>\n",
       "      <th>IBD</th>\n",
       "      <th>METABOLIC</th>\n",
       "      <th>MS</th>\n",
       "      <th>MYO_INFARC</th>\n",
       "      <th>PSORIASIS</th>\n",
       "      <th>PSORIASIS_DATE</th>\n",
       "      <th>PSOR_ARTH</th>\n",
       "      <th>RHEUM_ARTH</th>\n",
       "      <th>SCLERODERMA</th>\n",
       "      <th>SLE</th>\n",
       "      <th>VITILIGO</th>\n",
       "    </tr>\n",
       "  </thead>\n",
       "  <tbody>\n",
       "    <tr>\n",
       "      <th>0</th>\n",
       "      <td>1044489370924</td>\n",
       "      <td>0</td>\n",
       "      <td>0</td>\n",
       "      <td>0</td>\n",
       "      <td>0</td>\n",
       "      <td>1</td>\n",
       "      <td>0</td>\n",
       "      <td>0</td>\n",
       "      <td>0</td>\n",
       "      <td>0</td>\n",
       "      <td>0</td>\n",
       "      <td>0</td>\n",
       "      <td>NaN</td>\n",
       "      <td>0</td>\n",
       "      <td>0</td>\n",
       "      <td>0</td>\n",
       "      <td>0</td>\n",
       "      <td>0</td>\n",
       "    </tr>\n",
       "    <tr>\n",
       "      <th>1</th>\n",
       "      <td>150070856802</td>\n",
       "      <td>0</td>\n",
       "      <td>0</td>\n",
       "      <td>0</td>\n",
       "      <td>0</td>\n",
       "      <td>0</td>\n",
       "      <td>0</td>\n",
       "      <td>0</td>\n",
       "      <td>0</td>\n",
       "      <td>0</td>\n",
       "      <td>0</td>\n",
       "      <td>0</td>\n",
       "      <td>NaN</td>\n",
       "      <td>0</td>\n",
       "      <td>0</td>\n",
       "      <td>0</td>\n",
       "      <td>0</td>\n",
       "      <td>0</td>\n",
       "    </tr>\n",
       "    <tr>\n",
       "      <th>2</th>\n",
       "      <td>293408760897</td>\n",
       "      <td>0</td>\n",
       "      <td>0</td>\n",
       "      <td>0</td>\n",
       "      <td>0</td>\n",
       "      <td>0</td>\n",
       "      <td>0</td>\n",
       "      <td>0</td>\n",
       "      <td>0</td>\n",
       "      <td>0</td>\n",
       "      <td>0</td>\n",
       "      <td>0</td>\n",
       "      <td>NaN</td>\n",
       "      <td>0</td>\n",
       "      <td>0</td>\n",
       "      <td>0</td>\n",
       "      <td>0</td>\n",
       "      <td>0</td>\n",
       "    </tr>\n",
       "    <tr>\n",
       "      <th>3</th>\n",
       "      <td>96605550755</td>\n",
       "      <td>0</td>\n",
       "      <td>2</td>\n",
       "      <td>0</td>\n",
       "      <td>2</td>\n",
       "      <td>2</td>\n",
       "      <td>2</td>\n",
       "      <td>0</td>\n",
       "      <td>1</td>\n",
       "      <td>0</td>\n",
       "      <td>2</td>\n",
       "      <td>0</td>\n",
       "      <td>NaN</td>\n",
       "      <td>0</td>\n",
       "      <td>0</td>\n",
       "      <td>0</td>\n",
       "      <td>0</td>\n",
       "      <td>0</td>\n",
       "    </tr>\n",
       "    <tr>\n",
       "      <th>4</th>\n",
       "      <td>662841341827</td>\n",
       "      <td>0</td>\n",
       "      <td>0</td>\n",
       "      <td>0</td>\n",
       "      <td>2</td>\n",
       "      <td>2</td>\n",
       "      <td>2</td>\n",
       "      <td>0</td>\n",
       "      <td>0</td>\n",
       "      <td>0</td>\n",
       "      <td>0</td>\n",
       "      <td>0</td>\n",
       "      <td>NaN</td>\n",
       "      <td>0</td>\n",
       "      <td>0</td>\n",
       "      <td>0</td>\n",
       "      <td>0</td>\n",
       "      <td>0</td>\n",
       "    </tr>\n",
       "  </tbody>\n",
       "</table>\n",
       "</div>"
      ],
      "text/plain": [
       "          SUBJID  ALOPECIA  CAD  CROHN  DIABETES  DYSLIPIDEMIA  HYPERTENSION  \\\n",
       "0  1044489370924         0    0      0         0             1             0   \n",
       "1   150070856802         0    0      0         0             0             0   \n",
       "2   293408760897         0    0      0         0             0             0   \n",
       "3    96605550755         0    2      0         2             2             2   \n",
       "4   662841341827         0    0      0         2             2             2   \n",
       "\n",
       "   IBD  METABOLIC  MS  MYO_INFARC  PSORIASIS PSORIASIS_DATE  PSOR_ARTH  \\\n",
       "0    0          0   0           0          0            NaN          0   \n",
       "1    0          0   0           0          0            NaN          0   \n",
       "2    0          0   0           0          0            NaN          0   \n",
       "3    0          1   0           2          0            NaN          0   \n",
       "4    0          0   0           0          0            NaN          0   \n",
       "\n",
       "   RHEUM_ARTH  SCLERODERMA  SLE  VITILIGO  \n",
       "0           0            0    0         0  \n",
       "1           0            0    0         0  \n",
       "2           0            0    0         0  \n",
       "3           0            0    0         0  \n",
       "4           0            0    0         0  "
      ]
     },
     "execution_count": 469,
     "metadata": {},
     "output_type": "execute_result"
    }
   ],
   "source": [
    "# data importation:\n",
    "df7    = pd.read_csv('/mnt/numberFive/capstone17/phenotypeData/C10004_PHENO7.csv')\n",
    "df7.head()"
   ]
  },
  {
   "cell_type": "code",
   "execution_count": 470,
   "metadata": {},
   "outputs": [
    {
     "data": {
      "text/plain": [
       "SUBJID            False\n",
       "ALOPECIA          False\n",
       "CAD               False\n",
       "CROHN             False\n",
       "DIABETES          False\n",
       "DYSLIPIDEMIA      False\n",
       "HYPERTENSION      False\n",
       "IBD               False\n",
       "METABOLIC         False\n",
       "MS                False\n",
       "MYO_INFARC        False\n",
       "PSORIASIS         False\n",
       "PSORIASIS_DATE     True\n",
       "PSOR_ARTH         False\n",
       "RHEUM_ARTH        False\n",
       "SCLERODERMA       False\n",
       "SLE               False\n",
       "VITILIGO          False\n",
       "dtype: bool"
      ]
     },
     "execution_count": 470,
     "metadata": {},
     "output_type": "execute_result"
    }
   ],
   "source": [
    "df7.isnull().any()"
   ]
  },
  {
   "cell_type": "code",
   "execution_count": 471,
   "metadata": {},
   "outputs": [],
   "source": [
    "# dropping the column 'PSORIASIS_DATE' because we will not use it in predicting the disease\n",
    "df7 = df7.drop(['PSORIASIS_DATE'], axis=1)"
   ]
  },
  {
   "cell_type": "code",
   "execution_count": 472,
   "metadata": {},
   "outputs": [],
   "source": [
    "# df7 preprocessiong: for PsA and PsO, if equal to 1 or 2 than the patient has the disease, otherwise he is healthy\n",
    "df7.PSORIASIS[df7.PSORIASIS != 0] = 1 \n",
    "df7.PSOR_ARTH[df7.PSOR_ARTH != 0] = 1 "
   ]
  },
  {
   "cell_type": "code",
   "execution_count": 473,
   "metadata": {},
   "outputs": [
    {
     "data": {
      "text/plain": [
       "<matplotlib.axes._subplots.AxesSubplot at 0x7fe2f04d3828>"
      ]
     },
     "execution_count": 473,
     "metadata": {},
     "output_type": "execute_result"
    },
    {
     "data": {
      "image/png": "[encoded data removed]",
      "text/plain": [
       "<matplotlib.figure.Figure at 0x7fe2f048ccc0>"
      ]
     },
     "metadata": {},
     "output_type": "display_data"
    }
   ],
   "source": [
    "# Rates of patients having or not PsO\n",
    "PsO_rate = df7.PSORIASIS.value_counts() / len(df7)\n",
    "PsO_rate.plot.pie(figsize=(6, 6))"
   ]
  },
  {
   "cell_type": "code",
   "execution_count": 474,
   "metadata": {},
   "outputs": [
    {
     "data": {
      "text/plain": [
       "0    0.99513\n",
       "1    0.00487\n",
       "Name: PSOR_ARTH, dtype: float64"
      ]
     },
     "execution_count": 474,
     "metadata": {},
     "output_type": "execute_result"
    }
   ],
   "source": [
    "# Rates of patients haveing or not PsA\n",
    "PsA_rate = df7.PSOR_ARTH.value_counts() / len(df7)\n",
    "PsA_rate"
   ]
  },
  {
   "cell_type": "code",
   "execution_count": 475,
   "metadata": {},
   "outputs": [
    {
     "data": {
      "text/html": [
       "<div>\n",
       "<style>\n",
       "    .dataframe thead tr:only-child th {\n",
       "        text-align: right;\n",
       "    }\n",
       "\n",
       "    .dataframe thead th {\n",
       "        text-align: left;\n",
       "    }\n",
       "\n",
       "    .dataframe tbody tr th {\n",
       "        vertical-align: top;\n",
       "    }\n",
       "</style>\n",
       "<table border=\"1\" class=\"dataframe\">\n",
       "  <thead>\n",
       "    <tr style=\"text-align: right;\">\n",
       "      <th></th>\n",
       "      <th>SUBJID</th>\n",
       "      <th>ALOPECIA</th>\n",
       "      <th>CAD</th>\n",
       "      <th>CROHN</th>\n",
       "      <th>DIABETES</th>\n",
       "      <th>DYSLIPIDEMIA</th>\n",
       "      <th>HYPERTENSION</th>\n",
       "      <th>IBD</th>\n",
       "      <th>METABOLIC</th>\n",
       "      <th>MS</th>\n",
       "      <th>MYO_INFARC</th>\n",
       "      <th>PSOR_ARTH</th>\n",
       "      <th>RHEUM_ARTH</th>\n",
       "      <th>SCLERODERMA</th>\n",
       "      <th>SLE</th>\n",
       "      <th>VITILIGO</th>\n",
       "    </tr>\n",
       "    <tr>\n",
       "      <th>PSORIASIS</th>\n",
       "      <th></th>\n",
       "      <th></th>\n",
       "      <th></th>\n",
       "      <th></th>\n",
       "      <th></th>\n",
       "      <th></th>\n",
       "      <th></th>\n",
       "      <th></th>\n",
       "      <th></th>\n",
       "      <th></th>\n",
       "      <th></th>\n",
       "      <th></th>\n",
       "      <th></th>\n",
       "      <th></th>\n",
       "      <th></th>\n",
       "      <th></th>\n",
       "    </tr>\n",
       "  </thead>\n",
       "  <tbody>\n",
       "    <tr>\n",
       "      <th>0</th>\n",
       "      <td>5.501539e+11</td>\n",
       "      <td>0.000000</td>\n",
       "      <td>0.254723</td>\n",
       "      <td>0.000025</td>\n",
       "      <td>0.348836</td>\n",
       "      <td>1.173143</td>\n",
       "      <td>1.092930</td>\n",
       "      <td>0.000111</td>\n",
       "      <td>0.011239</td>\n",
       "      <td>0.0</td>\n",
       "      <td>0.154128</td>\n",
       "      <td>0.000813</td>\n",
       "      <td>0.000419</td>\n",
       "      <td>0.000037</td>\n",
       "      <td>0.000025</td>\n",
       "      <td>0.000012</td>\n",
       "    </tr>\n",
       "    <tr>\n",
       "      <th>1</th>\n",
       "      <td>5.462599e+11</td>\n",
       "      <td>0.023199</td>\n",
       "      <td>0.323651</td>\n",
       "      <td>0.014523</td>\n",
       "      <td>0.468502</td>\n",
       "      <td>1.332893</td>\n",
       "      <td>1.311958</td>\n",
       "      <td>0.186911</td>\n",
       "      <td>0.018484</td>\n",
       "      <td>0.0</td>\n",
       "      <td>0.196341</td>\n",
       "      <td>0.066956</td>\n",
       "      <td>0.065447</td>\n",
       "      <td>0.049227</td>\n",
       "      <td>0.008676</td>\n",
       "      <td>0.020747</td>\n",
       "    </tr>\n",
       "  </tbody>\n",
       "</table>\n",
       "</div>"
      ],
      "text/plain": [
       "                 SUBJID  ALOPECIA       CAD     CROHN  DIABETES  DYSLIPIDEMIA  \\\n",
       "PSORIASIS                                                                       \n",
       "0          5.501539e+11  0.000000  0.254723  0.000025  0.348836      1.173143   \n",
       "1          5.462599e+11  0.023199  0.323651  0.014523  0.468502      1.332893   \n",
       "\n",
       "           HYPERTENSION       IBD  METABOLIC   MS  MYO_INFARC  PSOR_ARTH  \\\n",
       "PSORIASIS                                                                  \n",
       "0              1.092930  0.000111   0.011239  0.0    0.154128   0.000813   \n",
       "1              1.311958  0.186911   0.018484  0.0    0.196341   0.066956   \n",
       "\n",
       "           RHEUM_ARTH  SCLERODERMA       SLE  VITILIGO  \n",
       "PSORIASIS                                               \n",
       "0            0.000419     0.000037  0.000025  0.000012  \n",
       "1            0.065447     0.049227  0.008676  0.020747  "
      ]
     },
     "execution_count": 475,
     "metadata": {},
     "output_type": "execute_result"
    }
   ],
   "source": [
    "# comparing the means of the other diseases between the PsO positive pouluation (ill) and PsO negative population (healthy)\n",
    "PsO_summary = df7.groupby('PSORIASIS')\n",
    "PsO_summary_mean = PsO_summary.mean()\n",
    "PsO_summary_mean"
   ]
  },
  {
   "cell_type": "code",
   "execution_count": 476,
   "metadata": {},
   "outputs": [
    {
     "data": {
      "image/png": "[encoded data removed]",
      "text/plain": [
       "<matplotlib.figure.Figure at 0x7fe2f00a7ba8>"
      ]
     },
     "metadata": {},
     "output_type": "display_data"
    }
   ],
   "source": [
    "# a bar plot visulazation of the tabe above\n",
    "PsO_summary_mean.drop('SUBJID', axis=1).plot.bar();"
   ]
  },
  {
   "cell_type": "markdown",
   "metadata": {},
   "source": [
    "- Data frames df2, df3, df6, df6_V2 & df7 do not need a preprocessing related to the subject ID (column \"SUBJID\") : all of them cointain 86449 rows correspending to the 86449 diffrent patients we are dealing with. \n",
    "- Data frame df1 lacks few rows (385 rows are lacking, we'll try to understand why) but there are no subject ID duplicates ( which makes the task easier)\n",
    "- Data frames df4 and df5 should be understood and preprocessed. "
   ]
  },
  {
   "cell_type": "code",
   "execution_count": 477,
   "metadata": {},
   "outputs": [],
   "source": [
    "#Save the modified df7 as a csv file\n",
    "df7.to_csv('Ahmed_Data/new_df7')"
   ]
  },
  {
   "cell_type": "markdown",
   "metadata": {},
   "source": [
    "## III. Merging all the data"
   ]
  },
  {
   "cell_type": "code",
   "execution_count": 478,
   "metadata": {},
   "outputs": [],
   "source": [
    "# reading the modified dataframes saved as csv files:\n",
    "df1 = pd.read_csv('Ahmed_Data/new_df1')\n",
    "df7 = pd.read_csv('Ahmed_Data/new_df7', index_col =0)"
   ]
  },
  {
   "cell_type": "code",
   "execution_count": 479,
   "metadata": {},
   "outputs": [
    {
     "data": {
      "text/html": [
       "<div>\n",
       "<style>\n",
       "    .dataframe thead tr:only-child th {\n",
       "        text-align: right;\n",
       "    }\n",
       "\n",
       "    .dataframe thead th {\n",
       "        text-align: left;\n",
       "    }\n",
       "\n",
       "    .dataframe tbody tr th {\n",
       "        vertical-align: top;\n",
       "    }\n",
       "</style>\n",
       "<table border=\"1\" class=\"dataframe\">\n",
       "  <thead>\n",
       "    <tr style=\"text-align: right;\">\n",
       "      <th></th>\n",
       "      <th>SUBJID</th>\n",
       "      <th>ALOPECIA</th>\n",
       "      <th>CAD</th>\n",
       "      <th>CROHN</th>\n",
       "      <th>DIABETES</th>\n",
       "      <th>DYSLIPIDEMIA</th>\n",
       "      <th>HYPERTENSION</th>\n",
       "      <th>IBD</th>\n",
       "      <th>METABOLIC</th>\n",
       "      <th>MS</th>\n",
       "      <th>MYO_INFARC</th>\n",
       "      <th>PSORIASIS</th>\n",
       "      <th>PSOR_ARTH</th>\n",
       "      <th>RHEUM_ARTH</th>\n",
       "      <th>SCLERODERMA</th>\n",
       "      <th>SLE</th>\n",
       "      <th>VITILIGO</th>\n",
       "    </tr>\n",
       "  </thead>\n",
       "  <tbody>\n",
       "    <tr>\n",
       "      <th>0</th>\n",
       "      <td>1044489370924</td>\n",
       "      <td>0</td>\n",
       "      <td>0</td>\n",
       "      <td>0</td>\n",
       "      <td>0</td>\n",
       "      <td>1</td>\n",
       "      <td>0</td>\n",
       "      <td>0</td>\n",
       "      <td>0</td>\n",
       "      <td>0</td>\n",
       "      <td>0</td>\n",
       "      <td>0</td>\n",
       "      <td>0</td>\n",
       "      <td>0</td>\n",
       "      <td>0</td>\n",
       "      <td>0</td>\n",
       "      <td>0</td>\n",
       "    </tr>\n",
       "    <tr>\n",
       "      <th>1</th>\n",
       "      <td>150070856802</td>\n",
       "      <td>0</td>\n",
       "      <td>0</td>\n",
       "      <td>0</td>\n",
       "      <td>0</td>\n",
       "      <td>0</td>\n",
       "      <td>0</td>\n",
       "      <td>0</td>\n",
       "      <td>0</td>\n",
       "      <td>0</td>\n",
       "      <td>0</td>\n",
       "      <td>0</td>\n",
       "      <td>0</td>\n",
       "      <td>0</td>\n",
       "      <td>0</td>\n",
       "      <td>0</td>\n",
       "      <td>0</td>\n",
       "    </tr>\n",
       "    <tr>\n",
       "      <th>2</th>\n",
       "      <td>293408760897</td>\n",
       "      <td>0</td>\n",
       "      <td>0</td>\n",
       "      <td>0</td>\n",
       "      <td>0</td>\n",
       "      <td>0</td>\n",
       "      <td>0</td>\n",
       "      <td>0</td>\n",
       "      <td>0</td>\n",
       "      <td>0</td>\n",
       "      <td>0</td>\n",
       "      <td>0</td>\n",
       "      <td>0</td>\n",
       "      <td>0</td>\n",
       "      <td>0</td>\n",
       "      <td>0</td>\n",
       "      <td>0</td>\n",
       "    </tr>\n",
       "    <tr>\n",
       "      <th>3</th>\n",
       "      <td>96605550755</td>\n",
       "      <td>0</td>\n",
       "      <td>2</td>\n",
       "      <td>0</td>\n",
       "      <td>2</td>\n",
       "      <td>2</td>\n",
       "      <td>2</td>\n",
       "      <td>0</td>\n",
       "      <td>1</td>\n",
       "      <td>0</td>\n",
       "      <td>2</td>\n",
       "      <td>0</td>\n",
       "      <td>0</td>\n",
       "      <td>0</td>\n",
       "      <td>0</td>\n",
       "      <td>0</td>\n",
       "      <td>0</td>\n",
       "    </tr>\n",
       "    <tr>\n",
       "      <th>4</th>\n",
       "      <td>662841341827</td>\n",
       "      <td>0</td>\n",
       "      <td>0</td>\n",
       "      <td>0</td>\n",
       "      <td>2</td>\n",
       "      <td>2</td>\n",
       "      <td>2</td>\n",
       "      <td>0</td>\n",
       "      <td>0</td>\n",
       "      <td>0</td>\n",
       "      <td>0</td>\n",
       "      <td>0</td>\n",
       "      <td>0</td>\n",
       "      <td>0</td>\n",
       "      <td>0</td>\n",
       "      <td>0</td>\n",
       "      <td>0</td>\n",
       "    </tr>\n",
       "  </tbody>\n",
       "</table>\n",
       "</div>"
      ],
      "text/plain": [
       "          SUBJID  ALOPECIA  CAD  CROHN  DIABETES  DYSLIPIDEMIA  HYPERTENSION  \\\n",
       "0  1044489370924         0    0      0         0             1             0   \n",
       "1   150070856802         0    0      0         0             0             0   \n",
       "2   293408760897         0    0      0         0             0             0   \n",
       "3    96605550755         0    2      0         2             2             2   \n",
       "4   662841341827         0    0      0         2             2             2   \n",
       "\n",
       "   IBD  METABOLIC  MS  MYO_INFARC  PSORIASIS  PSOR_ARTH  RHEUM_ARTH  \\\n",
       "0    0          0   0           0          0          0           0   \n",
       "1    0          0   0           0          0          0           0   \n",
       "2    0          0   0           0          0          0           0   \n",
       "3    0          1   0           2          0          0           0   \n",
       "4    0          0   0           0          0          0           0   \n",
       "\n",
       "   SCLERODERMA  SLE  VITILIGO  \n",
       "0            0    0         0  \n",
       "1            0    0         0  \n",
       "2            0    0         0  \n",
       "3            0    0         0  \n",
       "4            0    0         0  "
      ]
     },
     "execution_count": 479,
     "metadata": {},
     "output_type": "execute_result"
    }
   ],
   "source": [
    "df7.head()"
   ]
  },
  {
   "cell_type": "code",
   "execution_count": 480,
   "metadata": {},
   "outputs": [
    {
     "data": {
      "text/html": [
       "<div>\n",
       "<style>\n",
       "    .dataframe thead tr:only-child th {\n",
       "        text-align: right;\n",
       "    }\n",
       "\n",
       "    .dataframe thead th {\n",
       "        text-align: left;\n",
       "    }\n",
       "\n",
       "    .dataframe tbody tr th {\n",
       "        vertical-align: top;\n",
       "    }\n",
       "</style>\n",
       "<table border=\"1\" class=\"dataframe\">\n",
       "  <thead>\n",
       "    <tr style=\"text-align: right;\">\n",
       "      <th></th>\n",
       "      <th>SUBJID</th>\n",
       "      <th>BMI</th>\n",
       "      <th>ALCOHOL_STATUS</th>\n",
       "      <th>GENDER</th>\n",
       "      <th>REVISED_RPGEHRACE</th>\n",
       "      <th>SMOKING_STATUS</th>\n",
       "      <th>a1c_MEAN</th>\n",
       "      <th>a1c_UNDER</th>\n",
       "      <th>a1c_OVER</th>\n",
       "      <th>MEAN_bun</th>\n",
       "      <th>...</th>\n",
       "      <th>IBD</th>\n",
       "      <th>METABOLIC</th>\n",
       "      <th>MS</th>\n",
       "      <th>MYO_INFARC</th>\n",
       "      <th>PSORIASIS</th>\n",
       "      <th>PSOR_ARTH</th>\n",
       "      <th>RHEUM_ARTH</th>\n",
       "      <th>SCLERODERMA</th>\n",
       "      <th>SLE</th>\n",
       "      <th>VITILIGO</th>\n",
       "    </tr>\n",
       "  </thead>\n",
       "  <tbody>\n",
       "    <tr>\n",
       "      <th>0</th>\n",
       "      <td>997557158800</td>\n",
       "      <td>23.0</td>\n",
       "      <td>1.0</td>\n",
       "      <td>2</td>\n",
       "      <td>asian</td>\n",
       "      <td>1.0</td>\n",
       "      <td>NaN</td>\n",
       "      <td>NaN</td>\n",
       "      <td>NaN</td>\n",
       "      <td>NaN</td>\n",
       "      <td>...</td>\n",
       "      <td>0</td>\n",
       "      <td>0</td>\n",
       "      <td>0</td>\n",
       "      <td>0</td>\n",
       "      <td>0</td>\n",
       "      <td>0</td>\n",
       "      <td>0</td>\n",
       "      <td>0</td>\n",
       "      <td>0</td>\n",
       "      <td>0</td>\n",
       "    </tr>\n",
       "    <tr>\n",
       "      <th>1</th>\n",
       "      <td>15152000715</td>\n",
       "      <td>19.0</td>\n",
       "      <td>0.0</td>\n",
       "      <td>2</td>\n",
       "      <td>asian</td>\n",
       "      <td>1.0</td>\n",
       "      <td>5.961538</td>\n",
       "      <td>0.0</td>\n",
       "      <td>0.307692</td>\n",
       "      <td>17.00</td>\n",
       "      <td>...</td>\n",
       "      <td>0</td>\n",
       "      <td>0</td>\n",
       "      <td>0</td>\n",
       "      <td>0</td>\n",
       "      <td>0</td>\n",
       "      <td>0</td>\n",
       "      <td>0</td>\n",
       "      <td>0</td>\n",
       "      <td>0</td>\n",
       "      <td>0</td>\n",
       "    </tr>\n",
       "    <tr>\n",
       "      <th>2</th>\n",
       "      <td>133014986026</td>\n",
       "      <td>42.0</td>\n",
       "      <td>1.0</td>\n",
       "      <td>2</td>\n",
       "      <td>white</td>\n",
       "      <td>2.0</td>\n",
       "      <td>5.625000</td>\n",
       "      <td>0.0</td>\n",
       "      <td>0.000000</td>\n",
       "      <td>23.25</td>\n",
       "      <td>...</td>\n",
       "      <td>0</td>\n",
       "      <td>0</td>\n",
       "      <td>0</td>\n",
       "      <td>0</td>\n",
       "      <td>0</td>\n",
       "      <td>0</td>\n",
       "      <td>0</td>\n",
       "      <td>0</td>\n",
       "      <td>0</td>\n",
       "      <td>0</td>\n",
       "    </tr>\n",
       "    <tr>\n",
       "      <th>3</th>\n",
       "      <td>166030749962</td>\n",
       "      <td>23.0</td>\n",
       "      <td>1.0</td>\n",
       "      <td>2</td>\n",
       "      <td>asian</td>\n",
       "      <td>2.0</td>\n",
       "      <td>NaN</td>\n",
       "      <td>NaN</td>\n",
       "      <td>NaN</td>\n",
       "      <td>12.00</td>\n",
       "      <td>...</td>\n",
       "      <td>0</td>\n",
       "      <td>0</td>\n",
       "      <td>0</td>\n",
       "      <td>0</td>\n",
       "      <td>0</td>\n",
       "      <td>0</td>\n",
       "      <td>0</td>\n",
       "      <td>0</td>\n",
       "      <td>0</td>\n",
       "      <td>0</td>\n",
       "    </tr>\n",
       "    <tr>\n",
       "      <th>4</th>\n",
       "      <td>58652167287</td>\n",
       "      <td>24.0</td>\n",
       "      <td>1.0</td>\n",
       "      <td>1</td>\n",
       "      <td>white</td>\n",
       "      <td>1.0</td>\n",
       "      <td>NaN</td>\n",
       "      <td>NaN</td>\n",
       "      <td>NaN</td>\n",
       "      <td>NaN</td>\n",
       "      <td>...</td>\n",
       "      <td>0</td>\n",
       "      <td>0</td>\n",
       "      <td>0</td>\n",
       "      <td>0</td>\n",
       "      <td>0</td>\n",
       "      <td>0</td>\n",
       "      <td>0</td>\n",
       "      <td>0</td>\n",
       "      <td>0</td>\n",
       "      <td>0</td>\n",
       "    </tr>\n",
       "  </tbody>\n",
       "</table>\n",
       "<p>5 rows × 78 columns</p>\n",
       "</div>"
      ],
      "text/plain": [
       "         SUBJID   BMI  ALCOHOL_STATUS  GENDER REVISED_RPGEHRACE  \\\n",
       "0  997557158800  23.0             1.0       2             asian   \n",
       "1   15152000715  19.0             0.0       2             asian   \n",
       "2  133014986026  42.0             1.0       2             white   \n",
       "3  166030749962  23.0             1.0       2             asian   \n",
       "4   58652167287  24.0             1.0       1             white   \n",
       "\n",
       "   SMOKING_STATUS  a1c_MEAN  a1c_UNDER  a1c_OVER  MEAN_bun    ...     IBD  \\\n",
       "0             1.0       NaN        NaN       NaN       NaN    ...       0   \n",
       "1             1.0  5.961538        0.0  0.307692     17.00    ...       0   \n",
       "2             2.0  5.625000        0.0  0.000000     23.25    ...       0   \n",
       "3             2.0       NaN        NaN       NaN     12.00    ...       0   \n",
       "4             1.0       NaN        NaN       NaN       NaN    ...       0   \n",
       "\n",
       "   METABOLIC  MS  MYO_INFARC  PSORIASIS  PSOR_ARTH  RHEUM_ARTH  SCLERODERMA  \\\n",
       "0          0   0           0          0          0           0            0   \n",
       "1          0   0           0          0          0           0            0   \n",
       "2          0   0           0          0          0           0            0   \n",
       "3          0   0           0          0          0           0            0   \n",
       "4          0   0           0          0          0           0            0   \n",
       "\n",
       "   SLE  VITILIGO  \n",
       "0    0         0  \n",
       "1    0         0  \n",
       "2    0         0  \n",
       "3    0         0  \n",
       "4    0         0  \n",
       "\n",
       "[5 rows x 78 columns]"
      ]
     },
     "execution_count": 480,
     "metadata": {},
     "output_type": "execute_result"
    }
   ],
   "source": [
    "All_Data = pd.merge(df1, df3, on='SUBJID', how = 'outer') \n",
    "All_Data = pd.merge(All_Data, ALC, on='SUBJID', how = 'outer') \n",
    "All_Data = pd.merge(All_Data, BUN, on='SUBJID', how = 'outer') \n",
    "All_Data = pd.merge(All_Data, CCP, on='SUBJID', how = 'outer') \n",
    "All_Data = pd.merge(All_Data, CREA, on='SUBJID', how = 'outer') \n",
    "All_Data = pd.merge(All_Data, CRP, on='SUBJID', how = 'outer') \n",
    "All_Data = pd.merge(All_Data, ESR, on='SUBJID', how = 'outer') \n",
    "All_Data = pd.merge(All_Data, GLUC, on='SUBJID', how = 'outer') \n",
    "All_Data = pd.merge(All_Data, RHEUMATOID, on='SUBJID', how = 'outer') \n",
    "All_Data = pd.merge(All_Data, v_d, on='SUBJID', how = 'outer') \n",
    "All_Data = pd.merge(All_Data, AGE, on='SUBJID', how = 'outer') \n",
    "All_Data = pd.merge(All_Data, LDL_HDL_TRY, on='SUBJID', how = 'outer') \n",
    "All_Data = pd.merge(All_Data, df6_V2, on='SUBJID', how = 'outer') \n",
    "All_Data = pd.merge(All_Data, df7, on='SUBJID', how = 'outer') \n",
    "All_Data.head()"
   ]
  },
  {
   "cell_type": "code",
   "execution_count": 481,
   "metadata": {},
   "outputs": [
    {
     "data": {
      "text/plain": [
       "(86449, 78)"
      ]
     },
     "execution_count": 481,
     "metadata": {},
     "output_type": "execute_result"
    }
   ],
   "source": [
    "All_Data.shape"
   ]
  },
  {
   "cell_type": "code",
   "execution_count": 482,
   "metadata": {},
   "outputs": [
    {
     "data": {
      "text/plain": [
       "array(['SUBJID', 'BMI', 'ALCOHOL_STATUS', 'GENDER', 'REVISED_RPGEHRACE',\n",
       "       'SMOKING_STATUS', 'a1c_MEAN', 'a1c_UNDER', 'a1c_OVER', 'MEAN_bun',\n",
       "       'UNDER_bun', 'OVER_bun', 'ccp_MEAN', 'ccp_UNDER', 'ccp_OVER',\n",
       "       'MEAN_crea', 'UNDER_crea', 'OVER_crea', 'MEAN_CRP', 'OVER_CRP',\n",
       "       'MEAN_ESR', 'OVER_ESR', 'MEAN_GLUC', 'UNDER_GLUC', 'OVER_GLUC',\n",
       "       'MEAN_RHEUMATOID', 'UNDER_RHEUMATOID', 'OVER_RHEUMATOID',\n",
       "       'v_d_MEAN', 'v_d_UNDER', 'v_d_OVER', 'Age', 'HDL_Normal',\n",
       "       'HDL_Optimal', 'LDL_Optimal', 'LDL_Low_Risk', 'LDL_Normal_Risk',\n",
       "       'LDL_High_Risk', 'LDL_Very_High_Risk', 'TRIGLYC_Optimal',\n",
       "       'TRIGLYC_Low_Risk', 'TRIGLYC_Normal_Risk', 'TRIGLYC_High_Risk',\n",
       "       'TRIGLYC_Very_High_Risk', 'ADALIMUMAB_RX', 'LEFLUNOMIDE_FILLS',\n",
       "       'METHOTREXATE_FILLS', 'ADALIMUMAB_FILLS', 'USTEKINUMAB_FILLS',\n",
       "       'CYCLOSPORINE_FILLS', 'ETANERCEPT_FILLS', 'INFLIXIMAB_FILLS',\n",
       "       'ETANERCEPT_RX', 'ACITRETIN_RX', 'CYCLOSPORINE_RX',\n",
       "       'ANTIRHEUMATIC_RX', 'ANTIRHEUMATIC_FILLS', 'LEFLUNOMIDE_RX',\n",
       "       'USTEKINUMAB_RX', 'METHOTREXATE_RX', 'INFLIXIMAB_RX',\n",
       "       'ACITRETIN_FILLS', 'ALOPECIA', 'CAD', 'CROHN', 'DIABETES',\n",
       "       'DYSLIPIDEMIA', 'HYPERTENSION', 'IBD', 'METABOLIC', 'MS',\n",
       "       'MYO_INFARC', 'PSORIASIS', 'PSOR_ARTH', 'RHEUM_ARTH', 'SCLERODERMA',\n",
       "       'SLE', 'VITILIGO'], dtype=object)"
      ]
     },
     "execution_count": 482,
     "metadata": {},
     "output_type": "execute_result"
    }
   ],
   "source": [
    "All_Data.columns.values"
   ]
  },
  {
   "cell_type": "code",
   "execution_count": 483,
   "metadata": {},
   "outputs": [],
   "source": [
    "# save the merged data into a csv file\n",
    "All_Data.to_csv('Ahmed_Data/All_Data.csv', encoding='utf-8', index=False)"
   ]
  },
  {
   "cell_type": "markdown",
   "metadata": {},
   "source": [
    "## IV. Splitting the data into training, validation and test sets"
   ]
  },
  {
   "cell_type": "markdown",
   "metadata": {},
   "source": [
    "#### Note: we decided the follwing split: training 70%, vaidation 15% and test 15%. Here only the (training + validation) vs (test) split that is done"
   ]
  },
  {
   "cell_type": "code",
   "execution_count": 484,
   "metadata": {},
   "outputs": [],
   "source": [
    "train, test = sklearn.model_selection.train_test_split(All_Data, train_size = 0.85, test_size = 0.15, random_state = 1)\n",
    "train.to_csv('Ahmed_Data/train.csv', encoding='utf-8', index=False)\n",
    "test.to_csv('Ahmed_Data/test.csv', encoding='utf-8', index=False)"
   ]
  }
 ],
 "metadata": {
  "kernelspec": {
   "display_name": "anaconda3",
   "language": "python",
   "name": "anaconda3"
  },
  "language_info": {
   "codemirror_mode": {
    "name": "ipython",
    "version": 3
   },
   "file_extension": ".py",
   "mimetype": "text/x-python",
   "name": "python",
   "nbconvert_exporter": "python",
   "pygments_lexer": "ipython3",
   "version": "3.6.2"
  }
 },
 "nbformat": 4,
 "nbformat_minor": 2
}
